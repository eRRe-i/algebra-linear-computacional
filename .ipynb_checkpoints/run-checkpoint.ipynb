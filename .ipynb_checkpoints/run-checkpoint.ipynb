{
 "cells": [
  {
   "cell_type": "markdown",
   "metadata": {},
   "source": [
    "# ÁLGEBRA LINEAR COMPUTACIONAL\n",
    "\n",
    "## SEGUNDA AVALIAÇÃO - 2020.2 - PROFESSOR ERITO MARQUES   "
   ]
  },
  {
   "cell_type": "markdown",
   "metadata": {},
   "source": [
    "---\n",
    "### GRUPO:\n",
    "**Ícaro Santos Barcelos Pereira - _2017780187_**\\\n",
    "**Leandro Bataglia Pereira - _2018780199_**\\\n",
    "**Pedro Henrique Farolfi Camelo - _2018780326_**\n",
    "\n",
    "---"
   ]
  },
  {
   "cell_type": "markdown",
   "metadata": {},
   "source": [
    "Repositório dos algoritmos solicitados na segunda prova da disciplina de Álgebra Linear Computacional.\n",
    "##### Instruções:\n",
    "As respostas devem ser enviadas no formato jupyter notebook.\\\n",
    "Os trabalhos devem ser feitos em grupo. Não é permitida troca de informações entre os grupos.\\\n",
    "Fixada a data de entrega, não serão aceitos trabalhos entregues fora dessa data."
   ]
  },
  {
   "cell_type": "code",
   "execution_count": 4,
   "metadata": {},
   "outputs": [],
   "source": [
    "import numpy as np\n",
    "import pandas as pd\n",
    "import normas\n",
    "from cholesky import decomposicao_cholesky\n",
    "from gauss import eliminacao_gauss\n",
    "from fatoracaoLU import fatoracaoLU\n",
    "from sympy import Matrix, init_printing\n",
    "init_printing()\n",
    "#BIBLIOTECA QUE NÃO ESTOU USANDO MAS PODE SER ÚTIL PARA EXIBIR AS MATRIZES/VETORES = display(Matrix(*variavel que representa o dado*)"
   ]
  },
  {
   "cell_type": "code",
   "execution_count": 5,
   "metadata": {},
   "outputs": [],
   "source": [
    "# Coverti isso aqui em um procedimento, a parada é que vc pode mandar isso \n",
    "# ocorrer no início de qualquer célula e pode alterar o excel em tempo de execução :)\n",
    "\n",
    "# CONVERSÃO DOS DADOS EM ARRAYS DA NUMPY COM TYPE 'float64'\n",
    "def ler():\n",
    "    df_matriz = pd.read_excel(r\"dados/matriz_A.xlsx\", header=None) # Le o arquivo do excel que contém a matriz A sem cabeçalho\n",
    "    df_vetor = pd.read_excel(r\"dados/vetor_b.xlsx\", header=None) # Le o arquivo do excel que contém o vetor b sem cabeçalho\n",
    "    matriz = np.array(df_matriz, dtype='f8') # Converte a matriz A em um array da numpy\n",
    "    vetor = np.ravel(np.array(df_vetor, dtype='f8')) # Converte o vetor b em um array da numpy\n",
    "    return matriz, vetor"
   ]
  },
  {
   "cell_type": "markdown",
   "metadata": {},
   "source": [
    "### 1) Implemente um algoritmo que leia uma matriz A e um vetor b (de uma planilha excel) e avalie:\n",
    "**a)** se A é tridiagonal;"
   ]
  },
  {
   "cell_type": "code",
   "execution_count": 12,
   "metadata": {},
   "outputs": [],
   "source": [
    "def verifica_tridiagonal(matriz_A):\n",
    "    linhas, colunas = np.shape(matriz_A)\n",
    "\n",
    "    for i in range(linhas):\n",
    "        for j in range(colunas):\n",
    "            if np.abs(i-j) <= 1 and matriz_A[i,j] == 0:\n",
    "                return False\n",
    "            if np.abs(i-j) >= 2 and matriz_A[i,j] != 0:\n",
    "                return False\n",
    "    return True"
   ]
  },
  {
   "cell_type": "code",
   "execution_count": 13,
   "metadata": {},
   "outputs": [
    {
     "data": {
      "text/plain": [
       "False"
      ]
     },
     "execution_count": 13,
     "metadata": {},
     "output_type": "execute_result"
    }
   ],
   "source": [
    "matriz, vetor = ler()\n",
    "verifica_tridiagonal(matriz)"
   ]
  },
  {
   "cell_type": "markdown",
   "metadata": {},
   "source": [
    "**b)** se A é triangular superior;"
   ]
  },
  {
   "cell_type": "code",
   "execution_count": 15,
   "metadata": {},
   "outputs": [],
   "source": [
    "def verifica_tri_superior(matriz_A):\n",
    "    linhas = len(matriz_A)\n",
    "\n",
    "    for i in range(linhas):\n",
    "        for j in range(i):\n",
    "            if matriz_A[i,j] != 0:\n",
    "                return False\n",
    "    return True"
   ]
  },
  {
   "cell_type": "code",
   "execution_count": 16,
   "metadata": {},
   "outputs": [
    {
     "data": {
      "text/plain": [
       "False"
      ]
     },
     "execution_count": 16,
     "metadata": {},
     "output_type": "execute_result"
    }
   ],
   "source": [
    "matriz, vetor = ler()\n",
    "verifica_tri_superior(matriz)"
   ]
  },
  {
   "cell_type": "markdown",
   "metadata": {},
   "source": [
    "**c)** se A é triangular inferior;"
   ]
  },
  {
   "cell_type": "code",
   "execution_count": 17,
   "metadata": {},
   "outputs": [],
   "source": [
    "def verifica_tri_inferior(matriz_A):\n",
    "    colunas = len(matriz_A[0])\n",
    "\n",
    "    for j in range(colunas):\n",
    "        for i in range(j):\n",
    "            if matriz_A[i,j] != 0:\n",
    "                return False\n",
    "    return True"
   ]
  },
  {
   "cell_type": "code",
   "execution_count": 18,
   "metadata": {},
   "outputs": [
    {
     "data": {
      "text/plain": [
       "False"
      ]
     },
     "execution_count": 18,
     "metadata": {},
     "output_type": "execute_result"
    }
   ],
   "source": [
    "matriz, vetor = ler()\n",
    "verifica_tri_inferior(matriz)"
   ]
  },
  {
   "cell_type": "markdown",
   "metadata": {},
   "source": [
    "**d)** se Traço de A é maior que 4."
   ]
  },
  {
   "cell_type": "code",
   "execution_count": 22,
   "metadata": {},
   "outputs": [],
   "source": [
    "def traco(matriz_A):\n",
    "    linhas, colunas = np.shape(matriz_A)\n",
    "    n, traco = min((linhas, colunas)), 0\n",
    "\n",
    "    for i in range(n):\n",
    "        traco += matriz_A[i,i]\n",
    "    if traco > 4:\n",
    "        print(\"O traço da matriz é maior que 4\")\n",
    "        return True\n",
    "    print(\"O traço da matriz não é maior que 4\")\n",
    "    return False"
   ]
  },
  {
   "cell_type": "code",
   "execution_count": 23,
   "metadata": {},
   "outputs": [
    {
     "name": "stdout",
     "output_type": "stream",
     "text": [
      "O traço da matriz é maior que 4\n"
     ]
    },
    {
     "data": {
      "text/plain": [
       "True"
      ]
     },
     "execution_count": 23,
     "metadata": {},
     "output_type": "execute_result"
    }
   ],
   "source": [
    "matriz, vetor = ler()\n",
    "traco(matriz)"
   ]
  },
  {
   "cell_type": "markdown",
   "metadata": {},
   "source": [
    "---\n",
    "### 2) Implemente um algoritmo que leia uma matriz A (triangular) e um vetor b (de uma planilha excel) e resolva o sistema Ax = b por substituição para frente ou para trás conforme o caso."
   ]
  },
  {
   "cell_type": "code",
   "execution_count": 7,
   "metadata": {},
   "outputs": [
    {
     "name": "stdout",
     "output_type": "stream",
     "text": [
      "A matriz não é triangular\n"
     ]
    },
    {
     "ename": "TypeError",
     "evalue": "float() argument must be a string or a number, not 'type'",
     "output_type": "error",
     "traceback": [
      "\u001b[0;31m---------------------------------------------------------------------------\u001b[0m",
      "\u001b[0;31mTypeError\u001b[0m                                 Traceback (most recent call last)",
      "\u001b[0;32m<ipython-input-7-bbfea3b12013>\u001b[0m in \u001b[0;36m<module>\u001b[0;34m\u001b[0m\n\u001b[1;32m      1\u001b[0m \u001b[0;31m# TESTE DO ALGORITMO DE DECOMPOSIÇÃO DE CHOLESKY E NORMA RESIDUAL (cholesky.py, normas.py) '''\u001b[0m\u001b[0;34m\u001b[0m\u001b[0;34m\u001b[0m\u001b[0;34m\u001b[0m\u001b[0m\n\u001b[1;32m      2\u001b[0m \u001b[0mmatriz\u001b[0m\u001b[0;34m,\u001b[0m \u001b[0mvetor\u001b[0m \u001b[0;34m=\u001b[0m \u001b[0mler\u001b[0m\u001b[0;34m(\u001b[0m\u001b[0;34m)\u001b[0m\u001b[0;34m\u001b[0m\u001b[0;34m\u001b[0m\u001b[0m\n\u001b[0;32m----> 3\u001b[0;31m \u001b[0mdelta_x\u001b[0m \u001b[0;34m=\u001b[0m \u001b[0mdecomposicao_cholesky\u001b[0m\u001b[0;34m(\u001b[0m\u001b[0mmatriz\u001b[0m\u001b[0;34m,\u001b[0m \u001b[0mvetor\u001b[0m\u001b[0;34m)\u001b[0m\u001b[0;34m\u001b[0m\u001b[0;34m\u001b[0m\u001b[0m\n\u001b[0m\u001b[1;32m      4\u001b[0m \u001b[0;34m\u001b[0m\u001b[0m\n\u001b[1;32m      5\u001b[0m \u001b[0;32mif\u001b[0m \u001b[0mdelta_x\u001b[0m \u001b[0;34m!=\u001b[0m \u001b[0;32mNone\u001b[0m\u001b[0;34m:\u001b[0m\u001b[0;34m\u001b[0m\u001b[0;34m\u001b[0m\u001b[0m\n",
      "\u001b[0;32m~/Documentos/algebra-linear-computacional/cholesky.py\u001b[0m in \u001b[0;36mdecomposicao_cholesky\u001b[0;34m(matriz_A, vetor_b)\u001b[0m\n\u001b[1;32m     19\u001b[0m             \u001b[0mmatriz_R\u001b[0m\u001b[0;34m[\u001b[0m\u001b[0mi\u001b[0m\u001b[0;34m,\u001b[0m\u001b[0mj\u001b[0m\u001b[0;34m]\u001b[0m \u001b[0;34m=\u001b[0m \u001b[0mmatriz_R\u001b[0m\u001b[0;34m[\u001b[0m\u001b[0mi\u001b[0m\u001b[0;34m,\u001b[0m\u001b[0mj\u001b[0m\u001b[0;34m]\u001b[0m\u001b[0;34m/\u001b[0m\u001b[0mmatriz_R\u001b[0m\u001b[0;34m[\u001b[0m\u001b[0mi\u001b[0m\u001b[0;34m,\u001b[0m\u001b[0mi\u001b[0m\u001b[0;34m]\u001b[0m\u001b[0;34m\u001b[0m\u001b[0;34m\u001b[0m\u001b[0m\n\u001b[1;32m     20\u001b[0m \u001b[0;34m\u001b[0m\u001b[0m\n\u001b[0;32m---> 21\u001b[0;31m     \u001b[0;32mreturn\u001b[0m \u001b[0mresolve_cholesky\u001b[0m\u001b[0;34m(\u001b[0m\u001b[0mmatriz_R\u001b[0m\u001b[0;34m,\u001b[0m \u001b[0mvetor_b\u001b[0m\u001b[0;34m)\u001b[0m\u001b[0;34m\u001b[0m\u001b[0;34m\u001b[0m\u001b[0m\n\u001b[0m\u001b[1;32m     22\u001b[0m \u001b[0;34m\u001b[0m\u001b[0m\n\u001b[1;32m     23\u001b[0m \u001b[0;32mdef\u001b[0m \u001b[0mresolve_cholesky\u001b[0m\u001b[0;34m(\u001b[0m\u001b[0mmatriz_R\u001b[0m\u001b[0;34m,\u001b[0m \u001b[0mvetor_b\u001b[0m\u001b[0;34m)\u001b[0m\u001b[0;34m:\u001b[0m\u001b[0;34m\u001b[0m\u001b[0;34m\u001b[0m\u001b[0m\n",
      "\u001b[0;32m~/Documentos/algebra-linear-computacional/cholesky.py\u001b[0m in \u001b[0;36mresolve_cholesky\u001b[0;34m(matriz_R, vetor_b)\u001b[0m\n\u001b[1;32m     25\u001b[0m \u001b[0;34m\u001b[0m\u001b[0m\n\u001b[1;32m     26\u001b[0m     \u001b[0mvetor_y\u001b[0m \u001b[0;34m=\u001b[0m \u001b[0msubs\u001b[0m\u001b[0;34m.\u001b[0m\u001b[0mresolve_substituicao\u001b[0m\u001b[0;34m(\u001b[0m\u001b[0mmatriz_Rt\u001b[0m\u001b[0;34m,\u001b[0m \u001b[0mvetor_b\u001b[0m\u001b[0;34m)\u001b[0m \u001b[0;31m# Faz o cálculo de Rt * y = b para obter o vetor y\u001b[0m\u001b[0;34m\u001b[0m\u001b[0;34m\u001b[0m\u001b[0m\n\u001b[0;32m---> 27\u001b[0;31m     \u001b[0mvetor_x\u001b[0m \u001b[0;34m=\u001b[0m \u001b[0msubs\u001b[0m\u001b[0;34m.\u001b[0m\u001b[0mresolve_substituicao\u001b[0m\u001b[0;34m(\u001b[0m\u001b[0mmatriz_R\u001b[0m\u001b[0;34m,\u001b[0m \u001b[0mvetor_y\u001b[0m\u001b[0;34m)\u001b[0m \u001b[0;31m# Faz o cálculo de R * x = y para obter o vetor x (resultado)\u001b[0m\u001b[0;34m\u001b[0m\u001b[0;34m\u001b[0m\u001b[0m\n\u001b[0m\u001b[1;32m     28\u001b[0m \u001b[0;34m\u001b[0m\u001b[0m\n\u001b[1;32m     29\u001b[0m     \u001b[0;32mreturn\u001b[0m \u001b[0mvetor_x\u001b[0m \u001b[0;31m# Retorna o vetor x (resultado)\u001b[0m\u001b[0;34m\u001b[0m\u001b[0;34m\u001b[0m\u001b[0m\n",
      "\u001b[0;32m~/Documentos/algebra-linear-computacional/substituicao.py\u001b[0m in \u001b[0;36mresolve_substituicao\u001b[0;34m(matriz_A, vetor_b)\u001b[0m\n\u001b[1;32m      7\u001b[0m \u001b[0;34m\u001b[0m\u001b[0m\n\u001b[1;32m      8\u001b[0m     \u001b[0;32mif\u001b[0m\u001b[0;34m(\u001b[0m\u001b[0mcrit\u001b[0m\u001b[0;34m.\u001b[0m\u001b[0mverifica_tri_superior\u001b[0m\u001b[0;34m(\u001b[0m\u001b[0mmatriz_A\u001b[0m\u001b[0;34m)\u001b[0m\u001b[0;34m)\u001b[0m\u001b[0;34m:\u001b[0m\u001b[0;34m\u001b[0m\u001b[0;34m\u001b[0m\u001b[0m\n\u001b[0;32m----> 9\u001b[0;31m         \u001b[0mresolve_subs_tras\u001b[0m\u001b[0;34m(\u001b[0m\u001b[0mmatriz_A\u001b[0m\u001b[0;34m,\u001b[0m\u001b[0mvetor_b\u001b[0m\u001b[0;34m)\u001b[0m\u001b[0;34m\u001b[0m\u001b[0;34m\u001b[0m\u001b[0m\n\u001b[0m\u001b[1;32m     10\u001b[0m \u001b[0;34m\u001b[0m\u001b[0m\n\u001b[1;32m     11\u001b[0m     \u001b[0mprint\u001b[0m\u001b[0;34m(\u001b[0m\u001b[0;34m\"A matriz não é triangular\"\u001b[0m\u001b[0;34m)\u001b[0m\u001b[0;34m\u001b[0m\u001b[0;34m\u001b[0m\u001b[0m\n",
      "\u001b[0;32m~/Documentos/algebra-linear-computacional/substituicao.py\u001b[0m in \u001b[0;36mresolve_subs_tras\u001b[0;34m(matriz_A, vetor_b)\u001b[0m\n\u001b[1;32m     24\u001b[0m \u001b[0;32mdef\u001b[0m \u001b[0mresolve_subs_tras\u001b[0m\u001b[0;34m(\u001b[0m\u001b[0mmatriz_A\u001b[0m\u001b[0;34m,\u001b[0m\u001b[0mvetor_b\u001b[0m\u001b[0;34m)\u001b[0m\u001b[0;34m:\u001b[0m \u001b[0;31m# Resolve um sistema com matriz triangular superior\u001b[0m\u001b[0;34m\u001b[0m\u001b[0;34m\u001b[0m\u001b[0m\n\u001b[1;32m     25\u001b[0m     \u001b[0mn\u001b[0m \u001b[0;34m=\u001b[0m \u001b[0mlen\u001b[0m\u001b[0;34m(\u001b[0m\u001b[0mmatriz_A\u001b[0m\u001b[0;34m)\u001b[0m\u001b[0;34m\u001b[0m\u001b[0;34m\u001b[0m\u001b[0m\n\u001b[0;32m---> 26\u001b[0;31m     \u001b[0mvetor_resultado\u001b[0m \u001b[0;34m=\u001b[0m \u001b[0mnp\u001b[0m\u001b[0;34m.\u001b[0m\u001b[0marray\u001b[0m\u001b[0;34m(\u001b[0m\u001b[0mnp\u001b[0m\u001b[0;34m.\u001b[0m\u001b[0mcopy\u001b[0m\u001b[0;34m(\u001b[0m\u001b[0mvetor_b\u001b[0m\u001b[0;34m)\u001b[0m\u001b[0;34m,\u001b[0m \u001b[0mdtype\u001b[0m\u001b[0;34m=\u001b[0m \u001b[0;34m'f8'\u001b[0m\u001b[0;34m)\u001b[0m\u001b[0;34m\u001b[0m\u001b[0;34m\u001b[0m\u001b[0m\n\u001b[0m\u001b[1;32m     27\u001b[0m \u001b[0;34m\u001b[0m\u001b[0m\n\u001b[1;32m     28\u001b[0m     \u001b[0;32mfor\u001b[0m \u001b[0mi\u001b[0m \u001b[0;32min\u001b[0m \u001b[0mrange\u001b[0m\u001b[0;34m(\u001b[0m\u001b[0mn\u001b[0m\u001b[0;34m-\u001b[0m\u001b[0;36m1\u001b[0m\u001b[0;34m,\u001b[0m\u001b[0;34m-\u001b[0m\u001b[0;36m1\u001b[0m\u001b[0;34m,\u001b[0m\u001b[0;34m-\u001b[0m\u001b[0;36m1\u001b[0m\u001b[0;34m)\u001b[0m\u001b[0;34m:\u001b[0m\u001b[0;34m\u001b[0m\u001b[0;34m\u001b[0m\u001b[0m\n",
      "\u001b[0;31mTypeError\u001b[0m: float() argument must be a string or a number, not 'type'"
     ]
    }
   ],
   "source": [
    "# TESTE DO ALGORITMO DE DECOMPOSIÇÃO DE CHOLESKY E NORMA RESIDUAL (cholesky.py, normas.py) '''\n",
    "matriz, vetor = ler()\n",
    "delta_x = decomposicao_cholesky(matriz, vetor)\n",
    "\n",
    "if delta_x != None:\n",
    "    print(\"Vetor x resultado da Decomposição de Cholesky:\\n\",delta_x,\"\\n\")\n",
    "    normas.residual(matriz, vetor, delta_x)"
   ]
  },
  {
   "cell_type": "code",
   "execution_count": 2,
   "metadata": {},
   "outputs": [
    {
     "ename": "NameError",
     "evalue": "name 'eliminacao_gauss' is not defined",
     "output_type": "error",
     "traceback": [
      "\u001b[0;31m---------------------------------------------------------------------------\u001b[0m",
      "\u001b[0;31mNameError\u001b[0m                                 Traceback (most recent call last)",
      "\u001b[0;32m<ipython-input-2-3e920523e4dc>\u001b[0m in \u001b[0;36m<module>\u001b[0;34m\u001b[0m\n\u001b[1;32m      1\u001b[0m \u001b[0;31m# TESTE DO ALGORITMO DE ELIMINAÇÃO DE GAUSS E NORMA RESIDUAL (gauss.py, normas.py) '''\u001b[0m\u001b[0;34m\u001b[0m\u001b[0;34m\u001b[0m\u001b[0;34m\u001b[0m\u001b[0m\n\u001b[0;32m----> 2\u001b[0;31m \u001b[0mdelta_x\u001b[0m \u001b[0;34m=\u001b[0m \u001b[0meliminacao_gauss\u001b[0m\u001b[0;34m(\u001b[0m\u001b[0mmatriz\u001b[0m\u001b[0;34m,\u001b[0m \u001b[0mvetor\u001b[0m\u001b[0;34m)\u001b[0m\u001b[0;34m\u001b[0m\u001b[0;34m\u001b[0m\u001b[0m\n\u001b[0m\u001b[1;32m      3\u001b[0m \u001b[0;34m\u001b[0m\u001b[0m\n\u001b[1;32m      4\u001b[0m \u001b[0;32mif\u001b[0m \u001b[0mdelta_x\u001b[0m \u001b[0;34m!=\u001b[0m \u001b[0;32mNone\u001b[0m\u001b[0;34m:\u001b[0m\u001b[0;34m\u001b[0m\u001b[0;34m\u001b[0m\u001b[0m\n\u001b[1;32m      5\u001b[0m     \u001b[0mprint\u001b[0m\u001b[0;34m(\u001b[0m\u001b[0;34m\"Vetor x resultado da Eliminação de Gauss:\\n\"\u001b[0m\u001b[0;34m,\u001b[0m\u001b[0mdelta_x\u001b[0m\u001b[0;34m,\u001b[0m\u001b[0;34m\"\\n\"\u001b[0m\u001b[0;34m)\u001b[0m\u001b[0;34m\u001b[0m\u001b[0;34m\u001b[0m\u001b[0m\n",
      "\u001b[0;31mNameError\u001b[0m: name 'eliminacao_gauss' is not defined"
     ]
    }
   ],
   "source": [
    "# TESTE DO ALGORITMO DE ELIMINAÇÃO DE GAUSS E NORMA RESIDUAL (gauss.py, normas.py) '''\n",
    "delta_x = eliminacao_gauss(matriz, vetor)\n",
    "\n",
    "if delta_x != None:\n",
    "    print(\"Vetor x resultado da Eliminação de Gauss:\\n\",delta_x,\"\\n\")\n",
    "    normas.residual(matriz, vetor, delta_x)\n",
    "    print(\"\\n\")"
   ]
  },
  {
   "cell_type": "code",
   "execution_count": 26,
   "metadata": {},
   "outputs": [
    {
     "name": "stdout",
     "output_type": "stream",
     "text": [
      "A matriz não é triangular\n"
     ]
    },
    {
     "ename": "TypeError",
     "evalue": "float() argument must be a string or a number, not 'type'",
     "output_type": "error",
     "traceback": [
      "\u001b[0;31m---------------------------------------------------------------------------\u001b[0m",
      "\u001b[0;31mTypeError\u001b[0m                                 Traceback (most recent call last)",
      "\u001b[0;32m<ipython-input-26-515db2b29b08>\u001b[0m in \u001b[0;36m<module>\u001b[0;34m\u001b[0m\n\u001b[1;32m      1\u001b[0m \u001b[0;31m# TESTE DO ALGORITMO DE FATORAÇÃO LU E NORMA RESIDUAL (fatoracaoLU.py, normas.py)'''\u001b[0m\u001b[0;34m\u001b[0m\u001b[0;34m\u001b[0m\u001b[0;34m\u001b[0m\u001b[0m\n\u001b[0;32m----> 2\u001b[0;31m \u001b[0mdelta_x\u001b[0m \u001b[0;34m=\u001b[0m \u001b[0mfatoracaoLU\u001b[0m\u001b[0;34m(\u001b[0m\u001b[0mmatriz\u001b[0m\u001b[0;34m,\u001b[0m\u001b[0mvetor\u001b[0m\u001b[0;34m)\u001b[0m\u001b[0;34m\u001b[0m\u001b[0;34m\u001b[0m\u001b[0m\n\u001b[0m\u001b[1;32m      3\u001b[0m \u001b[0;34m\u001b[0m\u001b[0m\n\u001b[1;32m      4\u001b[0m \u001b[0;32mif\u001b[0m \u001b[0mdelta_x\u001b[0m \u001b[0;34m!=\u001b[0m \u001b[0;32mNone\u001b[0m\u001b[0;34m:\u001b[0m\u001b[0;34m\u001b[0m\u001b[0;34m\u001b[0m\u001b[0m\n\u001b[1;32m      5\u001b[0m     \u001b[0mprint\u001b[0m\u001b[0;34m(\u001b[0m\u001b[0;34m\"Vetor x resultado da Fatoração LU:\\n\"\u001b[0m\u001b[0;34m,\u001b[0m\u001b[0mdelta_x\u001b[0m\u001b[0;34m,\u001b[0m\u001b[0;34m\"\\n\"\u001b[0m\u001b[0;34m)\u001b[0m\u001b[0;34m\u001b[0m\u001b[0;34m\u001b[0m\u001b[0m\n",
      "\u001b[0;32m~/Documentos/algebra-linear-computacional/fatoracaoLU.py\u001b[0m in \u001b[0;36mfatoracaoLU\u001b[0;34m(matriz_A, vetor_b)\u001b[0m\n\u001b[1;32m     15\u001b[0m                 \u001b[0mmatriz_U\u001b[0m\u001b[0;34m[\u001b[0m\u001b[0mj\u001b[0m\u001b[0;34m,\u001b[0m\u001b[0mk\u001b[0m\u001b[0;34m]\u001b[0m \u001b[0;34m-=\u001b[0m \u001b[0mmatriz_U\u001b[0m\u001b[0;34m[\u001b[0m\u001b[0mi\u001b[0m\u001b[0;34m,\u001b[0m\u001b[0mk\u001b[0m\u001b[0;34m]\u001b[0m \u001b[0;34m*\u001b[0m \u001b[0mm\u001b[0m \u001b[0;31m# aplica o multiplicador x para zerar os elementos abaixo da diagonal principal da matriz U\u001b[0m\u001b[0;34m\u001b[0m\u001b[0;34m\u001b[0m\u001b[0m\n\u001b[1;32m     16\u001b[0m \u001b[0;34m\u001b[0m\u001b[0m\n\u001b[0;32m---> 17\u001b[0;31m     \u001b[0;32mreturn\u001b[0m \u001b[0mresolve_LU\u001b[0m\u001b[0;34m(\u001b[0m\u001b[0mmatriz_U\u001b[0m\u001b[0;34m,\u001b[0m \u001b[0mmatriz_L\u001b[0m\u001b[0;34m,\u001b[0m \u001b[0mvetor_b\u001b[0m\u001b[0;34m)\u001b[0m \u001b[0;31m# A matriz U é triangular superior e a matriz L é triangular inferior\u001b[0m\u001b[0;34m\u001b[0m\u001b[0;34m\u001b[0m\u001b[0m\n\u001b[0m\u001b[1;32m     18\u001b[0m \u001b[0;34m\u001b[0m\u001b[0m\n\u001b[1;32m     19\u001b[0m \u001b[0;32mdef\u001b[0m \u001b[0mresolve_LU\u001b[0m\u001b[0;34m(\u001b[0m\u001b[0mmatriz_U\u001b[0m\u001b[0;34m,\u001b[0m \u001b[0mmatriz_L\u001b[0m\u001b[0;34m,\u001b[0m \u001b[0mvetor_b\u001b[0m\u001b[0;34m)\u001b[0m\u001b[0;34m:\u001b[0m\u001b[0;34m\u001b[0m\u001b[0;34m\u001b[0m\u001b[0m\n",
      "\u001b[0;32m~/Documentos/algebra-linear-computacional/fatoracaoLU.py\u001b[0m in \u001b[0;36mresolve_LU\u001b[0;34m(matriz_U, matriz_L, vetor_b)\u001b[0m\n\u001b[1;32m     19\u001b[0m \u001b[0;32mdef\u001b[0m \u001b[0mresolve_LU\u001b[0m\u001b[0;34m(\u001b[0m\u001b[0mmatriz_U\u001b[0m\u001b[0;34m,\u001b[0m \u001b[0mmatriz_L\u001b[0m\u001b[0;34m,\u001b[0m \u001b[0mvetor_b\u001b[0m\u001b[0;34m)\u001b[0m\u001b[0;34m:\u001b[0m\u001b[0;34m\u001b[0m\u001b[0;34m\u001b[0m\u001b[0m\n\u001b[1;32m     20\u001b[0m     \u001b[0mvetor_y\u001b[0m \u001b[0;34m=\u001b[0m \u001b[0msubs\u001b[0m\u001b[0;34m.\u001b[0m\u001b[0mresolve_substituicao\u001b[0m\u001b[0;34m(\u001b[0m\u001b[0mmatriz_L\u001b[0m\u001b[0;34m,\u001b[0m \u001b[0mvetor_b\u001b[0m\u001b[0;34m)\u001b[0m \u001b[0;31m# resolve o sistema Ly = b pela substituicao para frente\u001b[0m\u001b[0;34m\u001b[0m\u001b[0;34m\u001b[0m\u001b[0m\n\u001b[0;32m---> 21\u001b[0;31m     \u001b[0mvetor_x\u001b[0m \u001b[0;34m=\u001b[0m \u001b[0msubs\u001b[0m\u001b[0;34m.\u001b[0m\u001b[0mresolve_substituicao\u001b[0m\u001b[0;34m(\u001b[0m\u001b[0mmatriz_U\u001b[0m\u001b[0;34m,\u001b[0m \u001b[0mvetor_y\u001b[0m\u001b[0;34m)\u001b[0m \u001b[0;31m# resolve o sistema Ux = y pela substituicao para tras\u001b[0m\u001b[0;34m\u001b[0m\u001b[0;34m\u001b[0m\u001b[0m\n\u001b[0m\u001b[1;32m     22\u001b[0m \u001b[0;34m\u001b[0m\u001b[0m\n\u001b[1;32m     23\u001b[0m     \u001b[0;32mreturn\u001b[0m \u001b[0mvetor_x\u001b[0m \u001b[0;31m# Retorna o vetor x (resultado)\u001b[0m\u001b[0;34m\u001b[0m\u001b[0;34m\u001b[0m\u001b[0m\n",
      "\u001b[0;32m~/Documentos/algebra-linear-computacional/substituicao.py\u001b[0m in \u001b[0;36mresolve_substituicao\u001b[0;34m(matriz_A, vetor_b)\u001b[0m\n\u001b[1;32m      7\u001b[0m \u001b[0;34m\u001b[0m\u001b[0m\n\u001b[1;32m      8\u001b[0m     \u001b[0;32mif\u001b[0m\u001b[0;34m(\u001b[0m\u001b[0mcrit\u001b[0m\u001b[0;34m.\u001b[0m\u001b[0mverifica_tri_superior\u001b[0m\u001b[0;34m(\u001b[0m\u001b[0mmatriz_A\u001b[0m\u001b[0;34m)\u001b[0m\u001b[0;34m)\u001b[0m\u001b[0;34m:\u001b[0m\u001b[0;34m\u001b[0m\u001b[0;34m\u001b[0m\u001b[0m\n\u001b[0;32m----> 9\u001b[0;31m         \u001b[0mresolve_subs_tras\u001b[0m\u001b[0;34m(\u001b[0m\u001b[0mmatriz_A\u001b[0m\u001b[0;34m,\u001b[0m\u001b[0mvetor_b\u001b[0m\u001b[0;34m)\u001b[0m\u001b[0;34m\u001b[0m\u001b[0;34m\u001b[0m\u001b[0m\n\u001b[0m\u001b[1;32m     10\u001b[0m \u001b[0;34m\u001b[0m\u001b[0m\n\u001b[1;32m     11\u001b[0m     \u001b[0mprint\u001b[0m\u001b[0;34m(\u001b[0m\u001b[0;34m\"A matriz não é triangular\"\u001b[0m\u001b[0;34m)\u001b[0m\u001b[0;34m\u001b[0m\u001b[0;34m\u001b[0m\u001b[0m\n",
      "\u001b[0;32m~/Documentos/algebra-linear-computacional/substituicao.py\u001b[0m in \u001b[0;36mresolve_subs_tras\u001b[0;34m(matriz_A, vetor_b)\u001b[0m\n\u001b[1;32m     24\u001b[0m \u001b[0;32mdef\u001b[0m \u001b[0mresolve_subs_tras\u001b[0m\u001b[0;34m(\u001b[0m\u001b[0mmatriz_A\u001b[0m\u001b[0;34m,\u001b[0m\u001b[0mvetor_b\u001b[0m\u001b[0;34m)\u001b[0m\u001b[0;34m:\u001b[0m \u001b[0;31m# Resolve um sistema com matriz triangular superior\u001b[0m\u001b[0;34m\u001b[0m\u001b[0;34m\u001b[0m\u001b[0m\n\u001b[1;32m     25\u001b[0m     \u001b[0mn\u001b[0m \u001b[0;34m=\u001b[0m \u001b[0mlen\u001b[0m\u001b[0;34m(\u001b[0m\u001b[0mmatriz_A\u001b[0m\u001b[0;34m)\u001b[0m\u001b[0;34m\u001b[0m\u001b[0;34m\u001b[0m\u001b[0m\n\u001b[0;32m---> 26\u001b[0;31m     \u001b[0mvetor_resultado\u001b[0m \u001b[0;34m=\u001b[0m \u001b[0mnp\u001b[0m\u001b[0;34m.\u001b[0m\u001b[0marray\u001b[0m\u001b[0;34m(\u001b[0m\u001b[0mnp\u001b[0m\u001b[0;34m.\u001b[0m\u001b[0mcopy\u001b[0m\u001b[0;34m(\u001b[0m\u001b[0mvetor_b\u001b[0m\u001b[0;34m)\u001b[0m\u001b[0;34m,\u001b[0m \u001b[0mdtype\u001b[0m\u001b[0;34m=\u001b[0m \u001b[0;34m'f8'\u001b[0m\u001b[0;34m)\u001b[0m\u001b[0;34m\u001b[0m\u001b[0;34m\u001b[0m\u001b[0m\n\u001b[0m\u001b[1;32m     27\u001b[0m \u001b[0;34m\u001b[0m\u001b[0m\n\u001b[1;32m     28\u001b[0m     \u001b[0;32mfor\u001b[0m \u001b[0mi\u001b[0m \u001b[0;32min\u001b[0m \u001b[0mrange\u001b[0m\u001b[0;34m(\u001b[0m\u001b[0mn\u001b[0m\u001b[0;34m-\u001b[0m\u001b[0;36m1\u001b[0m\u001b[0;34m,\u001b[0m\u001b[0;34m-\u001b[0m\u001b[0;36m1\u001b[0m\u001b[0;34m,\u001b[0m\u001b[0;34m-\u001b[0m\u001b[0;36m1\u001b[0m\u001b[0;34m)\u001b[0m\u001b[0;34m:\u001b[0m\u001b[0;34m\u001b[0m\u001b[0;34m\u001b[0m\u001b[0m\n",
      "\u001b[0;31mTypeError\u001b[0m: float() argument must be a string or a number, not 'type'"
     ]
    }
   ],
   "source": [
    "# TESTE DO ALGORITMO DE FATORAÇÃO LU E NORMA RESIDUAL (fatoracaoLU.py, normas.py)'''\n",
    "delta_x = fatoracaoLU(matriz,vetor)\n",
    "\n",
    "if delta_x != None:\n",
    "    print(\"Vetor x resultado da Fatoração LU:\\n\",delta_x,\"\\n\")\n",
    "    normas.residual(matriz, vetorÍcaro, delta_x)"
   ]
  },
  {
   "cell_type": "code",
   "execution_count": null,
   "metadata": {},
   "outputs": [],
   "source": []
  }
 ],
 "metadata": {
  "interpreter": {
   "hash": "d42491d68fc79822fa8f6c491674669c1be72403cbbd08a196e81efa0cad5789"
  },
  "kernelspec": {
   "display_name": "Python 3",
   "language": "python",
   "name": "python3"
  },
  "language_info": {
   "codemirror_mode": {
    "name": "ipython",
    "version": 3
   },
   "file_extension": ".py",
   "mimetype": "text/x-python",
   "name": "python",
   "nbconvert_exporter": "python",
   "pygments_lexer": "ipython3",
   "version": "3.8.10"
  }
 },
 "nbformat": 4,
 "nbformat_minor": 2
}
