{
 "cells": [
  {
   "cell_type": "markdown",
   "source": [
    "# ÁLGEBRA LINEAR COMPUTACIONAL\r\n",
    "\r\n",
    "## SEGUNDA AVALIAÇÃO - 2020.2 - PROFESSOR ERITO MARQUES   "
   ],
   "metadata": {}
  },
  {
   "cell_type": "markdown",
   "source": [
    "---\n",
    "### GRUPO:\n",
    "**Ícaro Santos Barcelos Pereira - _2017780187_**\\\n",
    "**Leandro Bataglia Pereira - _2018780199_**\\\n",
    "**Pedro Henrique Farolfi Camelo - _2018780326_**\n",
    "\n",
    "---"
   ],
   "metadata": {}
  },
  {
   "cell_type": "markdown",
   "source": [
    "Repositório dos algoritmos solicitados na segunda prova da disciplina de Álgebra Linear Computacional.\n",
    "##### Instruções:\n",
    "As respostas devem ser enviadas no formato jupyter notebook.\\\n",
    "Os trabalhos devem ser feitos em grupo. Não é permitida troca de informações entre os grupos.\\\n",
    "Fixada a data de entrega, não serão aceitos trabalhos entregues fora dessa data."
   ],
   "metadata": {}
  },
  {
   "cell_type": "code",
   "execution_count": 1,
   "source": [
    "import numpy as np\r\n",
    "import pandas as pd\r\n",
    "import normas\r\n",
    "from cholesky import decomposicao_cholesky\r\n",
    "from gauss import eliminacao_gauss\r\n",
    "from fatoracaoLU import fatoracaoLU\r\n",
    "from sympy import Matrix, init_printing\r\n",
    "init_printing()\r\n",
    "#BIBLIOTECA QUE NÃO ESTOU USANDO MAS PODE SER ÚTIL PARA EXIBIR AS MATRIZES/VETORES = display(Matrix(*variavel que representa o dado*)"
   ],
   "outputs": [],
   "metadata": {}
  },
  {
   "cell_type": "code",
   "execution_count": 2,
   "source": [
    "# Coverti isso aqui em um procedimento, a parada é que vc pode mandar isso \r\n",
    "# ocorrer no início de qualquer célula e pode alterar o excel em tempo de execução :)\r\n",
    "\r\n",
    "# CONVERSÃO DOS DADOS EM ARRAYS DA NUMPY COM TYPE 'float64'\r\n",
    "def ler():\r\n",
    "    df_matriz = pd.read_excel(r\"dados/matriz_A.xlsx\", header=None) # Le o arquivo do excel que contém a matriz A sem cabeçalho\r\n",
    "    df_vetor = pd.read_excel(r\"dados/vetor_b.xlsx\", header=None) # Le o arquivo do excel que contém o vetor b sem cabeçalho\r\n",
    "    matriz = np.array(df_matriz, dtype='f8') # Converte a matriz A em um array da numpy\r\n",
    "    vetor = np.ravel(np.array(df_vetor, dtype='f8')) # Converte o vetor b em um array da numpy\r\n",
    "    return matriz, vetor"
   ],
   "outputs": [],
   "metadata": {}
  },
  {
   "cell_type": "markdown",
   "source": [
    "### 1) Implemente um algoritmo que leia uma matriz A e um vetor b (de uma planilha excel) e avalie:\n",
    "**a)** se A é tridiagonal;"
   ],
   "metadata": {}
  },
  {
   "cell_type": "code",
   "execution_count": 3,
   "source": [
    "def verifica_tridiagonal(matriz_A):\r\n",
    "    linhas, colunas = np.shape(matriz_A)\r\n",
    "\r\n",
    "    for i in range(linhas):\r\n",
    "        for j in range(colunas):\r\n",
    "            if np.abs(i-j) <= 1 and matriz_A[i,j] == 0:\r\n",
    "                return False\r\n",
    "            if np.abs(i-j) >= 2 and matriz_A[i,j] != 0:\r\n",
    "                return False\r\n",
    "    return True"
   ],
   "outputs": [],
   "metadata": {}
  },
  {
   "cell_type": "code",
   "execution_count": 4,
   "source": [
    "matriz, vetor = ler()\r\n",
    "verifica_tridiagonal(matriz)"
   ],
   "outputs": [
    {
     "output_type": "execute_result",
     "data": {
      "text/plain": [
       "False"
      ]
     },
     "metadata": {},
     "execution_count": 4
    }
   ],
   "metadata": {}
  },
  {
   "cell_type": "markdown",
   "source": [
    "**b)** se A é triangular superior;"
   ],
   "metadata": {}
  },
  {
   "cell_type": "code",
   "execution_count": 5,
   "source": [
    "def verifica_tri_superior(matriz_A):\r\n",
    "    linhas = len(matriz_A)\r\n",
    "\r\n",
    "    for i in range(linhas):\r\n",
    "        for j in range(i):\r\n",
    "            if matriz_A[i,j] != 0:\r\n",
    "                return False\r\n",
    "    return True"
   ],
   "outputs": [],
   "metadata": {}
  },
  {
   "cell_type": "code",
   "execution_count": 6,
   "source": [
    "matriz, vetor = ler()\r\n",
    "verifica_tri_superior(matriz)"
   ],
   "outputs": [
    {
     "output_type": "execute_result",
     "data": {
      "text/plain": [
       "False"
      ]
     },
     "metadata": {},
     "execution_count": 6
    }
   ],
   "metadata": {}
  },
  {
   "cell_type": "markdown",
   "source": [
    "**c)** se A é triangular inferior;"
   ],
   "metadata": {}
  },
  {
   "cell_type": "code",
   "execution_count": 7,
   "source": [
    "def verifica_tri_inferior(matriz_A):\r\n",
    "    colunas = len(matriz_A[0])\r\n",
    "\r\n",
    "    for j in range(colunas):\r\n",
    "        for i in range(j):\r\n",
    "            if matriz_A[i,j] != 0:\r\n",
    "                return False\r\n",
    "    return True"
   ],
   "outputs": [],
   "metadata": {}
  },
  {
   "cell_type": "code",
   "execution_count": 8,
   "source": [
    "matriz, vetor = ler()\r\n",
    "verifica_tri_inferior(matriz)"
   ],
   "outputs": [
    {
     "output_type": "execute_result",
     "data": {
      "text/plain": [
       "False"
      ]
     },
     "metadata": {},
     "execution_count": 8
    }
   ],
   "metadata": {}
  },
  {
   "cell_type": "markdown",
   "source": [
    "**d)** se Traço de A é maior que 4."
   ],
   "metadata": {}
  },
  {
   "cell_type": "code",
   "execution_count": 9,
   "source": [
    "def traco(matriz_A):\r\n",
    "    linhas, colunas = np.shape(matriz_A)\r\n",
    "    n, traco = min((linhas, colunas)), 0\r\n",
    "\r\n",
    "    for i in range(n):\r\n",
    "        traco += matriz_A[i,i]\r\n",
    "    if traco > 4:\r\n",
    "        print(\"O traço da matriz é maior que 4\")\r\n",
    "        return True\r\n",
    "    print(\"O traço da matriz não é maior que 4\")\r\n",
    "    return False"
   ],
   "outputs": [],
   "metadata": {}
  },
  {
   "cell_type": "code",
   "execution_count": 10,
   "source": [
    "matriz, vetor = ler()\r\n",
    "traco(matriz)"
   ],
   "outputs": [
    {
     "output_type": "stream",
     "name": "stdout",
     "text": [
      "O traço da matriz é maior que 4\n"
     ]
    },
    {
     "output_type": "execute_result",
     "data": {
      "text/plain": [
       "True"
      ]
     },
     "metadata": {},
     "execution_count": 10
    }
   ],
   "metadata": {}
  },
  {
   "cell_type": "markdown",
   "source": [
    "---\n",
    "### 2) Implemente um algoritmo que leia uma matriz A (triangular) e um vetor b (de uma planilha excel) e resolva o sistema Ax = b por substituição para frente ou para trás conforme o caso."
   ],
   "metadata": {}
  },
  {
   "cell_type": "code",
   "execution_count": 11,
   "source": [
    "# TESTE DO ALGORITMO DE DECOMPOSIÇÃO DE CHOLESKY E NORMA RESIDUAL (cholesky.py, normas.py) '''\r\n",
    "matriz, vetor = ler()\r\n",
    "delta_x = decomposicao_cholesky(matriz, vetor)\r\n",
    "\r\n",
    "print(\"Vetor x resultado da Decomposição de Cholesky:\\n\",delta_x,\"\\n\")\r\n",
    "normas.residual(matriz, vetor, delta_x)"
   ],
   "outputs": [
    {
     "output_type": "stream",
     "name": "stdout",
     "text": [
      "Vetor x resultado da Decomposição de Cholesky:\n",
      " [1. 1. 1. 1. 1. 1. 1. 1. 1. 1. 1. 1. 1. 1. 1. 1. 1. 1. 1. 1. 1. 1.] \n",
      "\n",
      "Vetor residual:\n",
      " [-4.36557457e-11  1.45519152e-11 -2.91038305e-11 -3.63797881e-11\n",
      " -2.91038305e-11  0.00000000e+00  0.00000000e+00  0.00000000e+00\n",
      " -7.27595761e-12  1.45519152e-11  0.00000000e+00  0.00000000e+00\n",
      "  2.91038305e-11 -7.27595761e-12 -2.18278728e-11 -3.27418093e-11\n",
      "  4.36557457e-11  1.45519152e-11  7.27595761e-12 -4.00177669e-11\n",
      "  0.00000000e+00  2.91038305e-11]\n",
      "Resíduo da solução x: 4.1378398779635326e-16\n",
      "A solução encontrada é precisa.\n"
     ]
    }
   ],
   "metadata": {}
  },
  {
   "cell_type": "code",
   "execution_count": 12,
   "source": [
    "# TESTE DO ALGORITMO DE ELIMINAÇÃO DE GAUSS E NORMA RESIDUAL (gauss.py, normas.py) '''\r\n",
    "delta_x = eliminacao_gauss(matriz, vetor)\r\n",
    "\r\n",
    "print(\"Vetor x resultado da Eliminação de Gauss:\\n\",delta_x,\"\\n\")\r\n",
    "normas.residual(matriz, vetor, delta_x)\r\n",
    "print(\"\\n\")"
   ],
   "outputs": [
    {
     "output_type": "stream",
     "name": "stdout",
     "text": [
      "A matriz não é triangular\n",
      "Vetor x resultado da Eliminação de Gauss:\n",
      " <class 'RuntimeError'> \n",
      "\n",
      "\n",
      "\n"
     ]
    }
   ],
   "metadata": {}
  },
  {
   "cell_type": "code",
   "execution_count": 13,
   "source": [
    "# TESTE DO ALGORITMO DE FATORAÇÃO LU E NORMA RESIDUAL (fatoracaoLU.py, normas.py)'''\r\n",
    "delta_x = fatoracaoLU(matriz,vetor)\r\n",
    "\r\n",
    "print(\"Vetor x resultado da Fatoração LU:\\n\",delta_x,\"\\n\")\r\n",
    "normas.residual(matriz, vetor, delta_x)"
   ],
   "outputs": [
    {
     "output_type": "stream",
     "name": "stdout",
     "text": [
      "A matriz não é triangular\n",
      "Vetor x resultado da Fatoração LU:\n",
      " <class 'RuntimeError'> \n",
      "\n"
     ]
    },
    {
     "output_type": "error",
     "ename": "ValueError",
     "evalue": "matmul: Input operand 1 does not have enough dimensions (has 0, gufunc core with signature (n?,k),(k,m?)->(n?,m?) requires 1)",
     "traceback": [
      "\u001b[1;31m---------------------------------------------------------------------------\u001b[0m",
      "\u001b[1;31mValueError\u001b[0m                                Traceback (most recent call last)",
      "\u001b[1;32m<ipython-input-13-70e6b37d867d>\u001b[0m in \u001b[0;36m<module>\u001b[1;34m\u001b[0m\n\u001b[0;32m      3\u001b[0m \u001b[1;33m\u001b[0m\u001b[0m\n\u001b[0;32m      4\u001b[0m \u001b[0mprint\u001b[0m\u001b[1;33m(\u001b[0m\u001b[1;34m\"Vetor x resultado da Fatoração LU:\\n\"\u001b[0m\u001b[1;33m,\u001b[0m\u001b[0mdelta_x\u001b[0m\u001b[1;33m,\u001b[0m\u001b[1;34m\"\\n\"\u001b[0m\u001b[1;33m)\u001b[0m\u001b[1;33m\u001b[0m\u001b[1;33m\u001b[0m\u001b[0m\n\u001b[1;32m----> 5\u001b[1;33m \u001b[0mnormas\u001b[0m\u001b[1;33m.\u001b[0m\u001b[0mresidual\u001b[0m\u001b[1;33m(\u001b[0m\u001b[0mmatriz\u001b[0m\u001b[1;33m,\u001b[0m \u001b[0mvetor\u001b[0m\u001b[1;33m,\u001b[0m \u001b[0mdelta_x\u001b[0m\u001b[1;33m)\u001b[0m\u001b[1;33m\u001b[0m\u001b[1;33m\u001b[0m\u001b[0m\n\u001b[0m",
      "\u001b[1;32mc:\\Users\\phfar\\Google Drive\\Faculdade\\2020.2\\ALC\\Python\\algebra-linear-computacional\\normas.py\u001b[0m in \u001b[0;36mresidual\u001b[1;34m(matriz_a, vetor_b, delta_x)\u001b[0m\n\u001b[0;32m     70\u001b[0m \u001b[1;32mdef\u001b[0m \u001b[0mresidual\u001b[0m\u001b[1;33m(\u001b[0m\u001b[0mmatriz_a\u001b[0m\u001b[1;33m,\u001b[0m \u001b[0mvetor_b\u001b[0m\u001b[1;33m,\u001b[0m \u001b[0mdelta_x\u001b[0m\u001b[1;33m)\u001b[0m\u001b[1;33m:\u001b[0m \u001b[1;31m#norma-residual matricial\u001b[0m\u001b[1;33m\u001b[0m\u001b[1;33m\u001b[0m\u001b[0m\n\u001b[0;32m     71\u001b[0m     \u001b[0mn\u001b[0m\u001b[1;33m,\u001b[0m \u001b[0mk\u001b[0m \u001b[1;33m=\u001b[0m \u001b[0mlen\u001b[0m\u001b[1;33m(\u001b[0m\u001b[0mmatriz_a\u001b[0m\u001b[1;33m)\u001b[0m\u001b[1;33m,\u001b[0m \u001b[0mnp\u001b[0m\u001b[1;33m.\u001b[0m\u001b[0mlinalg\u001b[0m\u001b[1;33m.\u001b[0m\u001b[0mcond\u001b[0m\u001b[1;33m(\u001b[0m\u001b[0mmatriz_a\u001b[0m\u001b[1;33m)\u001b[0m\u001b[1;33m\u001b[0m\u001b[1;33m\u001b[0m\u001b[0m\n\u001b[1;32m---> 72\u001b[1;33m     \u001b[0mdelta_b\u001b[0m \u001b[1;33m=\u001b[0m \u001b[0mnp\u001b[0m\u001b[1;33m.\u001b[0m\u001b[0mmatmul\u001b[0m\u001b[1;33m(\u001b[0m\u001b[0mmatriz_a\u001b[0m\u001b[1;33m,\u001b[0m \u001b[0mdelta_x\u001b[0m\u001b[1;33m)\u001b[0m\u001b[1;33m\u001b[0m\u001b[1;33m\u001b[0m\u001b[0m\n\u001b[0m\u001b[0;32m     73\u001b[0m     \u001b[0mvetor_r\u001b[0m \u001b[1;33m=\u001b[0m \u001b[0mvetor_b\u001b[0m \u001b[1;33m-\u001b[0m \u001b[0mdelta_b\u001b[0m\u001b[1;33m\u001b[0m\u001b[1;33m\u001b[0m\u001b[0m\n\u001b[0;32m     74\u001b[0m \u001b[1;33m\u001b[0m\u001b[0m\n",
      "\u001b[1;31mValueError\u001b[0m: matmul: Input operand 1 does not have enough dimensions (has 0, gufunc core with signature (n?,k),(k,m?)->(n?,m?) requires 1)"
     ]
    }
   ],
   "metadata": {}
  },
  {
   "cell_type": "code",
   "execution_count": null,
   "source": [],
   "outputs": [],
   "metadata": {}
  }
 ],
 "metadata": {
  "interpreter": {
   "hash": "d42491d68fc79822fa8f6c491674669c1be72403cbbd08a196e81efa0cad5789"
  },
  "kernelspec": {
   "name": "python3",
   "display_name": "Python 3.9.5 64-bit ('ALC': conda)"
  },
  "language_info": {
   "name": "python",
   "version": "3.9.5",
   "mimetype": "text/x-python",
   "codemirror_mode": {
    "name": "ipython",
    "version": 3
   },
   "pygments_lexer": "ipython3",
   "nbconvert_exporter": "python",
   "file_extension": ".py"
  }
 },
 "nbformat": 4,
 "nbformat_minor": 2
}