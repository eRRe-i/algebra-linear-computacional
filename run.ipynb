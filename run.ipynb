{
 "cells": [
  {
   "cell_type": "markdown",
   "metadata": {},
   "source": [
    "# ÁLGEBRA LINEAR COMPUTACIONAL\n",
    "\n",
    "## SEGUNDA AVALIAÇÃO - 2020.2 - PROFESSOR ERITO MARQUES   "
   ]
  },
  {
   "cell_type": "markdown",
   "metadata": {},
   "source": [
    "---\n",
    "### GRUPO:\n",
    "**Ícaro Santos Barcelos Pereira - _2017780187_**\\\n",
    "**Leandro Bataglia Pereira - _2018780199_**\\\n",
    "**Pedro Henrique Farolfi Camelo - _2018780326_**\n",
    "\n",
    "---"
   ]
  },
  {
   "cell_type": "markdown",
   "metadata": {},
   "source": [
    "Repositório dos algoritmos solicitados na segunda prova da disciplina de Álgebra Linear Computacional.\n",
    "##### Instruções:\n",
    "As respostas devem ser enviadas no formato jupyter notebook.\\\n",
    "Os trabalhos devem ser feitos em grupo. Não é permitida troca de informações entre os grupos.\\\n",
    "Fixada a data de entrega, não serão aceitos trabalhos entregues fora dessa data."
   ]
  },
  {
   "cell_type": "code",
   "execution_count": 87,
   "metadata": {},
   "outputs": [],
   "source": [
    "import warnings\n",
    "warnings.filterwarnings(\"ignore\", category=DeprecationWarning) \n",
    "warnings.filterwarnings(\"ignore\",category=UserWarning)"
   ]
  },
  {
   "cell_type": "code",
   "execution_count": 13,
   "metadata": {},
   "outputs": [],
   "source": [
    "import numpy as np\n",
    "import pandas as pd\n",
    "import math\n",
    "from normas import *\n",
    "from criterios import *\n",
    "from cholesky import *\n",
    "from iterativos import *\n",
    "from benford import *\n",
    "from fatoracaoLU import fatoracaoLU\n",
    "from substituicao import resolve_substituicao\n",
    "from sympy import Matrix, init_printing\n",
    "init_printing()\n",
    "#BIBLIOTECA QUE NÃO ESTOU USANDO MAS PODE SER ÚTIL PARA EXIBIR AS MATRIZES/VETORES = display(Matrix(*variavel que representa o dado*)"
   ]
  },
  {
   "cell_type": "code",
   "execution_count": 14,
   "metadata": {},
   "outputs": [],
   "source": [
    "# Coverti isso aqui em um procedimento, a parada é que vc pode mandar isso\n",
    "# ocorrer no início de qualquer célula e pode alterar o excel em tempo de execução :)\n",
    "\n",
    "# CONVERSÃO DOS DADOS EM ARRAYS DA NUMPY COM TYPE 'float64'\n",
    "def ler_matriz_A_vetor_b(file_excel, sheet_matriz, sheet_vetor):\n",
    "    df_matriz = pd.read_excel(r\"dados/\"+file_excel+\".xlsx\", header=None, sheet_name=sheet_matriz) # Le o arquivo do excel que contém a matriz A sem cabeçalho\n",
    "    df_vetor = pd.read_excel(r\"dados/\"+file_excel+\".xlsx\", header=None, sheet_name=sheet_vetor) # Le o arquivo do excel que contém o vetor b sem cabeçalho\n",
    "    matriz = np.array(df_matriz, dtype='f8') # Converte a matriz A em um array da numpy\n",
    "    vetor = np.ravel(np.array(df_vetor, dtype='f8')) # Converte o vetor b em um array da numpy\n",
    "    return matriz, vetor"
   ]
  },
  {
   "cell_type": "markdown",
   "metadata": {},
   "source": [
    "### 1) Implemente um algoritmo que leia uma matriz A e um vetor b (de uma planilha excel) e avalie:"
   ]
  },
  {
   "cell_type": "code",
   "execution_count": 15,
   "metadata": {},
   "outputs": [],
   "source": [
    "matriz, vetor = ler_matriz_A_vetor_b(\"prova_ALC_testes\", \"matriz_A(1)\", \"vetor_b(1)\")"
   ]
  },
  {
   "cell_type": "markdown",
   "metadata": {},
   "source": [
    "**a)** se A é tridiagonal;"
   ]
  },
  {
   "cell_type": "code",
   "execution_count": 16,
   "metadata": {},
   "outputs": [],
   "source": [
    "def verifica_tridiagonal(matriz_A, debug=False):\n",
    "    linhas, colunas = np.shape(matriz_A)\n",
    "    \n",
    "    try:\n",
    "        assert linhas == colunas\n",
    "    except:\n",
    "        if debug:\n",
    "            print(\"A matriz não é quadrada -> não é tridiagonal\")\n",
    "        return False\n",
    "\n",
    "    for i in range(linhas):\n",
    "        for j in range(colunas):\n",
    "            if np.abs(i-j) <= 1 and matriz_A[i,j] == 0:\n",
    "                return False\n",
    "            if np.abs(i-j) >= 2 and matriz_A[i,j] != 0:\n",
    "                return False\n",
    "    return True"
   ]
  },
  {
   "cell_type": "code",
   "execution_count": 17,
   "metadata": {},
   "outputs": [
    {
     "data": {
      "text/plain": [
       "False"
      ]
     },
     "execution_count": 17,
     "metadata": {},
     "output_type": "execute_result"
    }
   ],
   "source": [
    "verifica_tridiagonal(matriz, debug=True)"
   ]
  },
  {
   "cell_type": "code",
   "execution_count": 18,
   "metadata": {},
   "outputs": [
    {
     "data": {
      "text/plain": [
       "True"
      ]
     },
     "execution_count": 18,
     "metadata": {},
     "output_type": "execute_result"
    }
   ],
   "source": [
    "#declarando vetor na mão:\n",
    "A = np.array([[1,1,0],\n",
    "              [1,1,1],\n",
    "              [0,1,1]])\n",
    "verifica_tridiagonal(A)"
   ]
  },
  {
   "cell_type": "markdown",
   "metadata": {},
   "source": [
    "**b)** se A é triangular superior;"
   ]
  },
  {
   "cell_type": "code",
   "execution_count": 19,
   "metadata": {},
   "outputs": [],
   "source": [
    "def verifica_tri_superior(matriz_A, debug=False):\n",
    "    linhas, colunas = np.shape(matriz_A)\n",
    "    \n",
    "    try:\n",
    "        assert linhas == colunas\n",
    "    except:\n",
    "        if debug:\n",
    "            print(\"A matriz não é quadrada -> não é triangular superior\")\n",
    "        return False\n",
    "\n",
    "    for i in range(linhas):\n",
    "        for j in range(i):\n",
    "            if matriz_A[i,j] != 0:\n",
    "                return False\n",
    "    return True"
   ]
  },
  {
   "cell_type": "code",
   "execution_count": 20,
   "metadata": {},
   "outputs": [
    {
     "data": {
      "text/plain": [
       "False"
      ]
     },
     "execution_count": 20,
     "metadata": {},
     "output_type": "execute_result"
    }
   ],
   "source": [
    "verifica_tri_superior(matriz, debug=True)"
   ]
  },
  {
   "cell_type": "markdown",
   "metadata": {},
   "source": [
    "**c)** se A é triangular inferior;"
   ]
  },
  {
   "cell_type": "code",
   "execution_count": 21,
   "metadata": {},
   "outputs": [],
   "source": [
    "def verifica_tri_inferior(matriz_A):\n",
    "    linhas, colunas = np.shape(matriz_A)\n",
    "    \n",
    "    try:\n",
    "        assert linhas == colunas\n",
    "    except:\n",
    "        print(\"A matriz não é quadrada -> não é triangular inferior\")\n",
    "        return False\n",
    "\n",
    "    for j in range(colunas):\n",
    "        for i in range(j):\n",
    "            if matriz_A[i,j] != 0:\n",
    "                return False\n",
    "    return True"
   ]
  },
  {
   "cell_type": "code",
   "execution_count": 22,
   "metadata": {},
   "outputs": [
    {
     "data": {
      "text/plain": [
       "False"
      ]
     },
     "execution_count": 22,
     "metadata": {},
     "output_type": "execute_result"
    }
   ],
   "source": [
    "verifica_tri_inferior(matriz)"
   ]
  },
  {
   "cell_type": "markdown",
   "metadata": {},
   "source": [
    "**d)** se Traço de A é maior que 4."
   ]
  },
  {
   "cell_type": "code",
   "execution_count": 23,
   "metadata": {},
   "outputs": [],
   "source": [
    "def traco(matriz_A, debug=False):\n",
    "    linhas, colunas = np.shape(matriz_A)\n",
    "    \n",
    "    try:\n",
    "        assert linhas == colunas\n",
    "    except:\n",
    "        if debug:\n",
    "            print(\"A matriz não é quadrada -> traço não está definido.\")\n",
    "        return False\n",
    "    \n",
    "    n, traco = min((linhas, colunas)), 0\n",
    "    for i in range(n):\n",
    "        traco += matriz_A[i,i]\n",
    "    if traco > 4:\n",
    "        print(\"O traço da matriz é \" + str(traco) + \", portanto é maior que 4\")\n",
    "        return True\n",
    "    print(\"O traço da matriz é \" + str(traco) + \", portanto não é maior que 4\")\n",
    "    return False"
   ]
  },
  {
   "cell_type": "code",
   "execution_count": 24,
   "metadata": {},
   "outputs": [
    {
     "name": "stdout",
     "output_type": "stream",
     "text": [
      "A matriz não é quadrada -> traço não está definido.\n"
     ]
    },
    {
     "data": {
      "text/plain": [
       "False"
      ]
     },
     "execution_count": 24,
     "metadata": {},
     "output_type": "execute_result"
    }
   ],
   "source": [
    "A = np.array([[1,2,3],[1,2,3]])\n",
    "traco(A, debug=True)"
   ]
  },
  {
   "cell_type": "code",
   "execution_count": 25,
   "metadata": {},
   "outputs": [
    {
     "name": "stdout",
     "output_type": "stream",
     "text": [
      "O traço da matriz é 1179.0, portanto é maior que 4\n"
     ]
    },
    {
     "data": {
      "text/plain": [
       "True"
      ]
     },
     "execution_count": 25,
     "metadata": {},
     "output_type": "execute_result"
    }
   ],
   "source": [
    "traco(matriz, debug=True)"
   ]
  },
  {
   "cell_type": "markdown",
   "metadata": {},
   "source": [
    "---\n",
    "### 2) Implemente um algoritmo que leia uma matriz A (triangular) e um vetor b (de uma planilha excel) e resolva o sistema Ax = b por substituição para frente ou para trás conforme o caso."
   ]
  },
  {
   "cell_type": "code",
   "execution_count": 26,
   "metadata": {},
   "outputs": [],
   "source": [
    "def resolve_substituicao(matriz_A, vetor_b):\n",
    "    \n",
    "    if checa_tamanho_matriz_vetor(matriz_A, vetor_b) == False:\n",
    "        return False\n",
    "        \n",
    "    if(verifica_tri_inferior(matriz_A)):\n",
    "        return resolve_subs_frente(matriz_A, vetor_b)\n",
    "\n",
    "    elif(verifica_tri_superior(matriz_A)):\n",
    "        return resolve_subs_tras(matriz_A,vetor_b)\n",
    "        \n",
    "    else:\n",
    "        print(\"A matriz não é triangular\")\n",
    "        return False\n",
    "        \n",
    "        \n",
    "def checa_tamanho_matriz_vetor(matriz_A, vetor_b):\n",
    "    lin_A, col_A = np.shape(matriz_A)\n",
    "    col_b = np.shape(vetor_b)\n",
    "    \n",
    "    try:\n",
    "        assert lin_A == col_b[0]\n",
    "    except:\n",
    "        print(\"A quantidade de linhas em A e de colunas em b são distintas\")\n",
    "        return False\n",
    "    return True\n",
    "    \n",
    "    \n",
    "def resolve_subs_frente(matriz_A, vetor_b): # Resolve um sistema com matriz triangular inferior\n",
    "    n = len(matriz_A)\n",
    "    vetor_resultado = np.array(np.copy(vetor_b), dtype='f8')\n",
    "\n",
    "    for i in range(n):\n",
    "        for j in range(i):\n",
    "            vetor_resultado[i] = vetor_resultado[i] - matriz_A[i,j] * vetor_resultado[j]\n",
    "        vetor_resultado[i] = vetor_resultado[i]/matriz_A[i,i]\n",
    "    return vetor_resultado\n",
    "\n",
    "def resolve_subs_tras(matriz_A,vetor_b): # Resolve um sistema com matriz triangular superior\n",
    "    n = len(matriz_A)\n",
    "    vetor_resultado = np.array(np.copy(vetor_b), dtype='f8')\n",
    "\n",
    "    for i in range(n-1,-1,-1):\n",
    "        for j in range(n-1,i,-1):\n",
    "            vetor_resultado[i] = vetor_resultado[i] - matriz_A[i,j] * vetor_resultado[j]\n",
    "        vetor_resultado[i] = vetor_resultado[i]/matriz_A[i,i]\n",
    "    return vetor_resultado"
   ]
  },
  {
   "cell_type": "code",
   "execution_count": 27,
   "metadata": {},
   "outputs": [
    {
     "name": "stdout",
     "output_type": "stream",
     "text": [
      "A matriz não é triangular\n"
     ]
    }
   ],
   "source": [
    "matriz, vetor = ler_matriz_A_vetor_b(\"prova_ALC_testes\", \"matriz_A(1)\", \"vetor_b(1)\")\n",
    "\n",
    "delta_x = resolve_substituicao(matriz, vetor)\n",
    "\n",
    "if delta_x != False:\n",
    "    print(\"Vetor x resultado da substituição:\\n\",delta_x,\"\\n\")"
   ]
  },
  {
   "cell_type": "markdown",
   "metadata": {},
   "source": [
    "---\n",
    "### 3) Implemente um algoritmo que leia uma matriz A e um vetor b (de uma planilha excel) e:\n",
    "\n"
   ]
  },
  {
   "cell_type": "code",
   "execution_count": 28,
   "metadata": {},
   "outputs": [],
   "source": [
    "matriz, vetor = ler_matriz_A_vetor_b(\"prova_ALC_testes\", \"matriz_A(1)\", \"vetor_b(1)\")"
   ]
  },
  {
   "cell_type": "markdown",
   "metadata": {},
   "source": [
    "**a)** Avalie se é possível obter o fator de Cholesky;"
   ]
  },
  {
   "cell_type": "code",
   "execution_count": 71,
   "metadata": {},
   "outputs": [],
   "source": [
    "def checa_positiva_definida(matriz_A, debug=False):\n",
    "        \n",
    "    n = len(matriz_A) # n é a ordem da matriz a\n",
    "    matriz_R = np.copy(np.triu(matriz_A)) # matriz_r é uma cópia triangular superior da matriz A\n",
    "    for i in range(n):\n",
    "            for k in range(i): # Não é executado quando i = 0\n",
    "                matriz_R[i,i] = matriz_R[i,i] - math.pow(matriz_R[k,i],2) # Define os termos da diagonal principal\n",
    "            if matriz_R[i,i] <= 0: # Se algum elemento da diagonal principal for menor ou igual a zero, por definição, a matriz não é positiva definida\n",
    "                if debug:\n",
    "                    print(\"Erro: A matriz não é positiva definida.\")\n",
    "                return False\n",
    "            matriz_R[i,i] = math.sqrt(matriz_R[i,i]) \n",
    "            for j in range(i+1,n): # Não é executado quando i = n\n",
    "                for k in range(i): # Não é executado quando i = 0\n",
    "                    matriz_R[i,j] = matriz_R[i,j] - (matriz_R[k,i] * matriz_R[k,j])\n",
    "                matriz_R[i,j] = matriz_R[i,j]/matriz_R[i,i]\n",
    "    return True         "
   ]
  },
  {
   "cell_type": "code",
   "execution_count": 30,
   "metadata": {},
   "outputs": [],
   "source": [
    "A = np.array([[2.,1.,0.],\n",
    "              [1.,2.,-1.],\n",
    "              [0.,-1.,2.]])"
   ]
  },
  {
   "cell_type": "code",
   "execution_count": 31,
   "metadata": {},
   "outputs": [],
   "source": [
    "A = np.array([[2.,1.,0.],\n",
    "              [1.,2.,-1.],\n",
    "              [0.,-1.,2.]])"
   ]
  },
  {
   "cell_type": "code",
   "execution_count": 32,
   "metadata": {},
   "outputs": [],
   "source": [
    "b = np.array([[3.],[0.],[1.]])"
   ]
  },
  {
   "cell_type": "code",
   "execution_count": 33,
   "metadata": {},
   "outputs": [
    {
     "data": {
      "text/plain": [
       "True"
      ]
     },
     "execution_count": 33,
     "metadata": {},
     "output_type": "execute_result"
    }
   ],
   "source": [
    "checa_cholesky(A, debug=True)"
   ]
  },
  {
   "cell_type": "markdown",
   "metadata": {},
   "source": [
    "**b)** Resolva o sistema Ax = b usando a fatoração de Cholesky."
   ]
  },
  {
   "cell_type": "code",
   "execution_count": 34,
   "metadata": {},
   "outputs": [],
   "source": [
    "def decomposicao_cholesky(matriz_A, vetor_b):\n",
    "    n = len(matriz_A) # n é a ordem da matriz a\n",
    "    matriz_R = np.copy(np.triu(matriz_A)) # matriz_r é uma cópia triangular superior da matriz A\n",
    "\n",
    "    for i in range(n):\n",
    "        for k in range(i): # Não é executado quando i = 0\n",
    "            matriz_R[i,i] = matriz_R[i,i] - math.pow(matriz_R[k,i],2) # Define os termos da diagonal principal\n",
    "        if matriz_R[i,i] <= 0: # Se algum elemento da diagonal principal for menor ou igual a zero, por definição, a matriz não é positiva definida\n",
    "            print(\"Erro: A matriz não é positiva definida.\")\n",
    "            return\n",
    "        matriz_R[i,i] = math.sqrt(matriz_R[i,i]) \n",
    "        for j in range(i+1,n): # Não é executado quando i = n\n",
    "            for k in range(i): # Não é executado quando i = 0\n",
    "                matriz_R[i,j] = matriz_R[i,j] - (matriz_R[k,i] * matriz_R[k,j])\n",
    "            matriz_R[i,j] = matriz_R[i,j]/matriz_R[i,i]\n",
    "\n",
    "    return resolve_cholesky(matriz_R, vetor_b)\n",
    "\n",
    "def resolve_cholesky(matriz_R, vetor_b):\n",
    "    matriz_Rt = np.copy(np.transpose(matriz_R)) # matriz_rt é a matriz R transposta\n",
    "    \n",
    "    vetor_y = subs.resolve_substituicao(matriz_Rt, vetor_b) # Faz o cálculo de Rt * y = b para obter o vetor y\n",
    "    vetor_x = subs.resolve_substituicao(matriz_R, vetor_y) # Faz o cálculo de R * x = y para obter o vetor x (resultado)\n",
    "\n",
    "    return vetor_x # Retorna o vetor x (resultado)"
   ]
  },
  {
   "cell_type": "code",
   "execution_count": 35,
   "metadata": {},
   "outputs": [
    {
     "name": "stdout",
     "output_type": "stream",
     "text": [
      "Erro: A matriz não é positiva definida.\n",
      "Vetor x resultado da Decomposição de Cholesky:\n",
      " None \n",
      "\n"
     ]
    }
   ],
   "source": [
    "# TESTE DO ALGORITMO DE DECOMPOSIÇÃO DE CHOLESKY E NORMA RESIDUAL (cholesky.py, normas.py)\n",
    "delta_x = decomposicao_cholesky(matriz, vetor)\n",
    "print(\"Vetor x resultado da Decomposição de Cholesky:\\n\",delta_x,\"\\n\")\n",
    "#residual(matriz, vetor, delta_x)"
   ]
  },
  {
   "cell_type": "markdown",
   "metadata": {},
   "source": [
    "---\n",
    "### 4) Implemente um algoritmo que leia uma matriz A e um vetor b (de uma planilha excel) e:"
   ]
  },
  {
   "cell_type": "code",
   "execution_count": 36,
   "metadata": {},
   "outputs": [],
   "source": [
    "matriz, vetor = ler_matriz_A_vetor_b(\"prova_ALC_testes\", \"matriz_A(1)\", \"vetor_b(1)\")"
   ]
  },
  {
   "cell_type": "markdown",
   "metadata": {},
   "source": [
    "**a)** Avalie se algum critério é satisfeito para aplicação dos métodos de Gauss-Seidel, Jacobi e SOR;"
   ]
  },
  {
   "cell_type": "code",
   "execution_count": 37,
   "metadata": {},
   "outputs": [],
   "source": [
    "def criterio_linhas(matriz_A): # Verificar o critério das linhas para o método de Jacobi\n",
    "    n, m = len(matriz_A), len(matriz_A[0]) # n e m são as dimensões da matriz\n",
    "    soma = 0\n",
    "\n",
    "    for i in range(n): # Percorre toda a matriz\n",
    "        for j in range(m):\n",
    "            if i != j: # Desconsidera os termos da diagonal principal\n",
    "                soma += np.abs(matriz_A[i,j])\n",
    "\n",
    "        if soma >= np.abs(matriz_A[i,i]): # Verifica se a soma de todos os termos (sem contar o termo da diagonal principal) de cada linha é menor ou maior que o termo da diagonal principal (Critério das linhas)\n",
    "            return False\n",
    "\n",
    "        soma = 0\n",
    "    return True"
   ]
  },
  {
   "cell_type": "code",
   "execution_count": 38,
   "metadata": {},
   "outputs": [],
   "source": [
    "def criterio_sassenfeld(matriz_A):\n",
    "    n, m = len(matriz_A), len(matriz_A[0]) # n e m são as dimensões da matriz\n",
    "    aux = 0 # Variável que auxilia nos somatórios dos termos tanto de Aij*Beta, quanto de Aij\n",
    "    vetor_betao = np.zeros(m) # Vetor de Betas iniciado com termos iguais a zero\n",
    "\n",
    "    for i in range(n):\n",
    "        for j in range(i): # j vai até i-1 (desconsidera a primeira iteração)\n",
    "            aux += np.abs(matriz_A[i,j]) * vetor_betao[j] # A partir da segunda iteração, inclui a multiplicação de Aij pelos Betas anteriores no somatório (já que na primeira iteração não há Betas anteriores, obviamente)\n",
    "        for j in range(i,n):\n",
    "            aux += np.abs(matriz_A[i,j]) # Somatório dos módulos dos termos de Aij\n",
    "        vetor_betao[i] = aux/np.abs(matriz_A[i,i]) #Divide o valor da soma pelo termo da diagonal principal\n",
    "        aux = 0 # Zera a variável auxiliar pra próxima iteração\n",
    "    \n",
    "    print(\"Maior betão:\", np.max(vetor_betao))\n",
    "    if np.max(vetor_betao) < 1: # Verifica se a condição do critério de Sassenfeld (max(B) < 1) é satisfeita\n",
    "        return True\n",
    "    return False"
   ]
  },
  {
   "cell_type": "code",
   "execution_count": 39,
   "metadata": {},
   "outputs": [
    {
     "data": {
      "text/plain": [
       "False"
      ]
     },
     "execution_count": 39,
     "metadata": {},
     "output_type": "execute_result"
    }
   ],
   "source": [
    "criterio_linhas(matriz)"
   ]
  },
  {
   "cell_type": "code",
   "execution_count": 40,
   "metadata": {},
   "outputs": [
    {
     "name": "stdout",
     "output_type": "stream",
     "text": [
      "Maior betão: 10602274533433.357\n"
     ]
    },
    {
     "data": {
      "text/plain": [
       "False"
      ]
     },
     "execution_count": 40,
     "metadata": {},
     "output_type": "execute_result"
    }
   ],
   "source": [
    "criterio_sassenfeld(matriz)"
   ]
  },
  {
   "cell_type": "markdown",
   "metadata": {},
   "source": [
    "**b)** Resolva o sistema Ax = b usando os métodos iterativos de Gauss-Seidel, Jacobi e SOR."
   ]
  },
  {
   "cell_type": "markdown",
   "metadata": {},
   "source": [
    "## Jacobi"
   ]
  },
  {
   "cell_type": "code",
   "execution_count": 41,
   "metadata": {},
   "outputs": [],
   "source": [
    "def jacobi(matriz_A, vetor_b, vetor_x=None, N=10000, p=1e-15): # Função que executa o algoritmo de Jacobi\n",
    "    n, m = len(matriz_A), len(matriz_A[0]) # n e m são as dimensões da matriz\n",
    "    aux = 0 # Variável que vai auxiliar a armazenar as subtrações dos valores Aij*xj\n",
    "\n",
    "    if vetor_x == None: # Se não é fornecido um vetor de aproximação inicial para x, ele é iniciado aqui com todos os elementos iguais a zero\n",
    "        vetor_x = np.zeros(m)\n",
    "    \n",
    "    vetor_aux = np.copy(vetor_x) # Vetor auxiliar igual ao vetor x que representa a iteração k+1\n",
    "\n",
    "    if criterio_linhas(matriz_A): # Verifica se o critério das linhas é satisfeito\n",
    "        print(\"O critério das linhas foi satisfeito: O sistema converge.\")\n",
    "    else:\n",
    "        print(\"ATENÇÃO: O critério das linhas não foi satisfeito.\")\n",
    "\n",
    "    for k in range(N): # Executa todas as iterações especificadas na chamada da função (N) se a condição de parada não for satisfeita\n",
    "        for i in range(n):\n",
    "            for j in range(n):\n",
    "                if i != j: # Pula os elementos da diagonal principal pois eles não são utilizados\n",
    "                    aux += matriz_A[i,j] * vetor_x[j] # Acumula as subtrações dos valores de Aij*xj\n",
    "            \n",
    "            vetor_aux[i] = (vetor_b[i] - aux)/matriz_A[i,i] # Executa a iteração do método com (bi-Aij*xj)/Aii\n",
    "            aux = 0 # Zera a contagem do somatório dos valores novamente\n",
    "\n",
    "        for i in range(n):\n",
    "            if vetor_x[i] != 0 and np.abs(vetor_x[i] - vetor_aux[i])/np.abs(vetor_x[i]) <= p: # Condição de parada caso a variação relativa de uma iteração para outra seja menor que a tolerância p\n",
    "                print(\"(Jacobi) Resultado encontrado com o critério de parada, na iteração:\", k)\n",
    "                return vetor_x\n",
    "\n",
    "        vetor_x = np.copy(vetor_aux) # Atualiza o vetor_x (k) com os valores do vetor_aux (k+1)\n",
    "\n",
    "    print(\"(Jacobi) Resultado encontrado com o número máximo de iterações.\")\n",
    "    return vetor_x # Retorna o vetor solução"
   ]
  },
  {
   "cell_type": "code",
   "execution_count": 42,
   "metadata": {},
   "outputs": [
    {
     "name": "stdout",
     "output_type": "stream",
     "text": [
      "ATENÇÃO: O critério das linhas não foi satisfeito.\n",
      "(Jacobi) Resultado encontrado com o número máximo de iterações.\n",
      "[-2.21507407e+191 -7.85062201e+191 -4.02063148e+191 -3.00124088e+191\n",
      " -2.34581480e+192 -2.32464880e+191 -4.58103429e+192 -4.79832453e+191\n",
      " -5.85375866e+191 -4.90112952e+191 -2.01091315e+191 -2.59706719e+191\n",
      " -6.26779852e+191 -1.21273532e+192 -8.04504337e+192 -2.42684232e+192\n",
      " -4.65327284e+191 -2.98587023e+191 -3.29553950e+191 -4.17899256e+191\n",
      " -4.88807065e+191 -4.20548399e+191 -3.16760574e+192 -1.26588784e+192\n",
      " -1.08434271e+193]\n"
     ]
    }
   ],
   "source": [
    "print(jacobi(matriz, vetor, N=100))"
   ]
  },
  {
   "cell_type": "markdown",
   "metadata": {},
   "source": [
    "## Gauss-Seidel"
   ]
  },
  {
   "cell_type": "code",
   "execution_count": 95,
   "metadata": {},
   "outputs": [],
   "source": [
    "def seidel(matriz_A, vetor_b, vetor_x=None, N=10000, p=1e-15): # Função que executa o algoritmo de Gauss-Seidel\n",
    "    n, m = len(matriz_A), len(matriz_A[0]) # n e m são as dimensões da matriz\n",
    "    aux = 0 # Variável que vai auxiliar a armazenar as subtrações dos valores Aij*xj\n",
    "\n",
    "    if vetor_x == None: # Se não é fornecido um vetor de aproximação inicial para x, ele é iniciado aqui com todos os elementos iguais a zero\n",
    "        vetor_x = np.zeros(m)\n",
    "\n",
    "    vetor_aux = np.copy(vetor_x) # Vetor auxiliar igual ao vetor x que representa a iteração k+1\n",
    "    \t\n",
    "    if criterio_linhas(matriz_A): # Verifica se o critério das linhas é satisfeito\n",
    "        print(\"O critério das linhas foi satisfeito: O sistema converge.\")\n",
    "    else:\n",
    "        print(\"ATENÇÃO: O critério das linhas não foi satisfeito.\")\n",
    "\n",
    "    if criterio_sassenfeld(matriz_A): # Verifica se o critério de Sassenfeld é satisfeito\n",
    "        print(\"O critério de Sassenfeld foi satisfeito.\")\n",
    "    else:\n",
    "        print(\"ATENÇÃO: O critério de Sassenfeld não foi satisfeito.\")\n",
    "\n",
    "    for k in range(N): # Executa todas as iterações especificadas na chamada da função\n",
    "        for i in range(n):\n",
    "            for j in range(m):\n",
    "                if i != j: # Pula os elementos da diagonal principal pois eles não são utilizados\n",
    "                    if i > j:\n",
    "                        aux += matriz_A[i,j] * vetor_aux[j] # Acumula as subtrações dos valores de Aij*xj utilizando os valores que já foram atualizados (de 0 a i) que ficam no vetor auxiliar\n",
    "                    else:\n",
    "                        aux += matriz_A[i,j] * vetor_x[j] # Acumula as subtrações dos valores de Aij*xj utilizando os valores ainda não foram atualizados (de i+1 a n) que ficam no vetor x\n",
    "\n",
    "            vetor_aux[i] = (vetor_b[i] - aux)/matriz_A[i,i] # Executa a iteração do método com (bi-Aij*xj)/Aii\n",
    "            aux = 0 # Zera a contagem do somatório dos valores novamente\n",
    "\n",
    "        for i in range(n): #Verifica elemento por elemento de vetor_x e do vetor_aux\n",
    "            if vetor_x[i] != 0 and np.abs(vetor_x[i] - vetor_aux[i])/np.abs(vetor_x[i]) <= p: # Condição de parada caso a variação relativa de uma iteração para outra seja menor que a tolerância p\n",
    "                print(\"(Seidel) Resultado encontrado com o critério de parada, na iteração:\", k)\n",
    "                return vetor_x\n",
    "\n",
    "        vetor_x = np.copy(vetor_aux) # Atualiza o vetor_x (k) com os valores do vetor_aux (k+1)\n",
    "\n",
    "    print(\"(Seidel) Resultado encontrado com o número máximo de iterações.\")\n",
    "    return vetor_x # Retorna o vetor solução"
   ]
  },
  {
   "cell_type": "code",
   "execution_count": 88,
   "metadata": {},
   "outputs": [
    {
     "name": "stdout",
     "output_type": "stream",
     "text": [
      "ATENÇÃO: O critério das linhas não foi satisfeito.\n",
      "Maior betão: 10184953.97183485\n",
      "ATENÇÃO: O critério de Sassenfeld não foi satisfeito.\n",
      "(Seidel) Resultado encontrado com o número máximo de iterações.\n",
      "[-21.56775216 -32.54641235  -5.32821735  -2.69145685  20.32386694\n",
      "  23.40691512  54.42531028  -5.62011583   3.62948958  52.68351969\n",
      " -14.87951715  15.85691206 -17.19311452 -15.14191749  -3.79030319\n",
      "  10.5149987   10.04383099  -4.00756475 -21.51290161   5.40162896\n",
      " -39.49506381  -4.8946655   -0.54243828   3.06451631   8.30498115]\n"
     ]
    }
   ],
   "source": [
    "print(seidel(matriz, vetor))\n",
    "#print(sor(matriz, vetor))"
   ]
  },
  {
   "cell_type": "markdown",
   "metadata": {},
   "source": [
    "## SOR"
   ]
  },
  {
   "cell_type": "code",
   "execution_count": 132,
   "metadata": {},
   "outputs": [],
   "source": [
    "def calcular_omega_otimo(matriz_A):\n",
    "    \n",
    "    if checa_positiva_definida(matriz_A, debug=True) == False or verifica_tridiagonal(matriz_A, debug=True) == False:\n",
    "        return None        \n",
    "    \n",
    "    D = np.copy(matriz_A)\n",
    "    for i in range(3):\n",
    "        for j in range(3):\n",
    "            if i != j:\n",
    "                D[i,j] = 0.\n",
    "    D = np.linalg.inv(d)\n",
    "    \n",
    "    L = np.tril(A)\n",
    "    U = np.triu(A)\n",
    "\n",
    "    for i in range(3):\n",
    "        for j in range(3):\n",
    "            if i == j:\n",
    "                L[i,j] = 0.\n",
    "                U[i,j] = 0.\n",
    "\n",
    "    LU = L + U\n",
    "    T = np.matmul(d, lu)\n",
    "    P = np.linalg.eig(T)\n",
    "    p = np.amax(X[0])\n",
    "    \n",
    "    print(\"omega: {}\".format(2/(1 + math.sqrt(1 - pow(p, 2)))))\n",
    "    return 2/(1 + math.sqrt(1 - pow(p, 2)))\n",
    "    "
   ]
  },
  {
   "cell_type": "code",
   "execution_count": 131,
   "metadata": {},
   "outputs": [],
   "source": [
    "def sor(matriz_A, vetor_b, vetor_x=None, N=10000, p=1e-15, w=1.7): # Quando w = 1 é igual ao Seidel\n",
    "    n, m = len(matriz_A), len(matriz_A[0]) # n e m são as dimensões da matriz\n",
    "    aux = 0 # Variável que vai auxiliar a armazenar as subtrações dos valores Aij*xj\n",
    "    \n",
    "    omega = calcular_omega_otimo(matriz_A)\n",
    "    \n",
    "    if omega != None:\n",
    "        w = omega\n",
    "\n",
    "    if vetor_x == None: # Se não é fornecido um vetor de aproximação inicial para x, ele é iniciado aqui com todos os elementos iguais a zero\n",
    "        vetor_x = np.zeros(m)\n",
    "\n",
    "    vetor_aux = np.copy(vetor_x) # Vetor auxiliar igual ao vetor x que representa a iteração k+1\n",
    "\n",
    "    if criterio_linhas(matriz_A): # Verifica se o critério das linhas é satisfeito\n",
    "        print(\"O critério das linhas foi satisfeito: O sistema converge.\")\n",
    "    else:\n",
    "        print(\"ATENÇÃO: O critério das linhas não foi satisfeito.\")\n",
    "\n",
    "    if criterio_sassenfeld(matriz_A): # Verifica se o critério das linhas é satisfeito\n",
    "        print(\"O critério de Sassenfeld foi satisfeito.\")\n",
    "    else:\n",
    "        print(\"ATENÇÃO: O critério de Sassenfeld não foi satisfeito.\")\n",
    "\n",
    "    for k in range(N): # Executa todas as iterações especificadas na chamada da função\n",
    "        for i in range(n):\n",
    "            for j in range(m):\n",
    "                if i != j: # Pula os elementos da diagonal principal pois eles não são utilizados\n",
    "                    if i > j:\n",
    "                        aux += matriz_A[i,j] * vetor_aux[j] # Acumula as subtrações dos valores de Aij*xj utilizando os valores que já foram atualizados (de 0 a i) que ficam no vetor auxiliar\n",
    "                    else:\n",
    "                        aux += matriz_A[i,j] * vetor_x[j] # Acumula as subtrações dos valores de Aij*xj utilizando os valores ainda não foram atualizados (de i+1 a n) que ficam no vetor x\n",
    "\n",
    "            vetor_aux[i] = (1-w)*vetor_x[i] + (w*(vetor_b[i] - aux))/matriz_A[i,i] # Executa a iteração do método com (1-w)*xi(bi-Aij*xj)/Aii\n",
    "            aux = 0 # Zera a contagem do somatório dos valores novamente\n",
    "\n",
    "        for i in range(n): # Verifica elemento por elemento de vetor_x e do vetor_aux\n",
    "            if vetor_x[i] != 0 and np.abs(vetor_x[i] - vetor_aux[i])/np.abs(vetor_x[i]) <= p: # Condição de parada caso a variação relativa de uma iteração para outra seja menor que a tolerância p\n",
    "                print(\"(SOR) Resultado encontrado com o critério de parada, na iteração:\", k)\n",
    "                return vetor_x\n",
    "\n",
    "        vetor_x = np.copy(vetor_aux) # Atualiza o vetor_x (k) com os valores do vetor_aux (k+1)\n",
    "\n",
    "    print(\"(SOR) Resultado encontrado com o número máximo de iterações.\")\n",
    "    return vetor_x # Retorna o vetor solução"
   ]
  },
  {
   "cell_type": "code",
   "execution_count": 133,
   "metadata": {},
   "outputs": [],
   "source": [
    "a = np.array([[2.,1.,0.],[1.,2.,-1.],[0.,-1.,2.]])"
   ]
  },
  {
   "cell_type": "code",
   "execution_count": 134,
   "metadata": {},
   "outputs": [],
   "source": [
    "b = np.array([[3.],[0.],[1.]])"
   ]
  },
  {
   "cell_type": "code",
   "execution_count": 135,
   "metadata": {},
   "outputs": [],
   "source": [
    "x = np.array([[1.5],[0.],[0.5]])"
   ]
  },
  {
   "cell_type": "code",
   "execution_count": 136,
   "metadata": {},
   "outputs": [
    {
     "name": "stdout",
     "output_type": "stream",
     "text": [
      "omega: 1.17157287525381\n"
     ]
    },
    {
     "ename": "ValueError",
     "evalue": "The truth value of an array with more than one element is ambiguous. Use a.any() or a.all()",
     "output_type": "error",
     "traceback": [
      "\u001b[0;31m---------------------------------------------------------------------------\u001b[0m",
      "\u001b[0;31mValueError\u001b[0m                                Traceback (most recent call last)",
      "\u001b[0;32m<ipython-input-136-d70d75786149>\u001b[0m in \u001b[0;36m<module>\u001b[0;34m\u001b[0m\n\u001b[0;32m----> 1\u001b[0;31m \u001b[0msor\u001b[0m\u001b[0;34m(\u001b[0m\u001b[0ma\u001b[0m\u001b[0;34m,\u001b[0m \u001b[0mb\u001b[0m\u001b[0;34m,\u001b[0m \u001b[0mx\u001b[0m\u001b[0;34m,\u001b[0m \u001b[0mN\u001b[0m\u001b[0;34m=\u001b[0m\u001b[0;36m2\u001b[0m\u001b[0;34m)\u001b[0m\u001b[0;34m\u001b[0m\u001b[0;34m\u001b[0m\u001b[0m\n\u001b[0m",
      "\u001b[0;32m<ipython-input-131-ae46f1a33ab4>\u001b[0m in \u001b[0;36msor\u001b[0;34m(matriz_A, vetor_b, vetor_x, N, p, w)\u001b[0m\n\u001b[1;32m      8\u001b[0m         \u001b[0mw\u001b[0m \u001b[0;34m=\u001b[0m \u001b[0momega\u001b[0m\u001b[0;34m\u001b[0m\u001b[0;34m\u001b[0m\u001b[0m\n\u001b[1;32m      9\u001b[0m \u001b[0;34m\u001b[0m\u001b[0m\n\u001b[0;32m---> 10\u001b[0;31m     \u001b[0;32mif\u001b[0m \u001b[0mvetor_x\u001b[0m \u001b[0;34m==\u001b[0m \u001b[0;32mNone\u001b[0m\u001b[0;34m:\u001b[0m \u001b[0;31m# Se não é fornecido um vetor de aproximação inicial para x, ele é iniciado aqui com todos os elementos iguais a zero\u001b[0m\u001b[0;34m\u001b[0m\u001b[0;34m\u001b[0m\u001b[0m\n\u001b[0m\u001b[1;32m     11\u001b[0m         \u001b[0mvetor_x\u001b[0m \u001b[0;34m=\u001b[0m \u001b[0mnp\u001b[0m\u001b[0;34m.\u001b[0m\u001b[0mzeros\u001b[0m\u001b[0;34m(\u001b[0m\u001b[0mm\u001b[0m\u001b[0;34m)\u001b[0m\u001b[0;34m\u001b[0m\u001b[0;34m\u001b[0m\u001b[0m\n\u001b[1;32m     12\u001b[0m \u001b[0;34m\u001b[0m\u001b[0m\n",
      "\u001b[0;31mValueError\u001b[0m: The truth value of an array with more than one element is ambiguous. Use a.any() or a.all()"
     ]
    }
   ],
   "source": [
    "sor(a, b, x, N=2)"
   ]
  },
  {
   "cell_type": "code",
   "execution_count": 45,
   "metadata": {},
   "outputs": [],
   "source": [
    "d = np.copy(a)\n",
    "for i in range(3):\n",
    "    for j in range(3):\n",
    "        if i != j:\n",
    "            d[i,j] = 0.\n",
    "d = np.linalg.inv(d)"
   ]
  },
  {
   "cell_type": "code",
   "execution_count": 46,
   "metadata": {},
   "outputs": [],
   "source": [
    "l = np.tril(a)\n",
    "u = np.triu(a)\n",
    "\n",
    "for i in range(3):\n",
    "    for j in range(3):\n",
    "        if i == j:\n",
    "            l[i,j] = 0.\n",
    "            u[i,j] = 0.\n",
    "            \n",
    "lu = l+u"
   ]
  },
  {
   "cell_type": "code",
   "execution_count": 76,
   "metadata": {},
   "outputs": [],
   "source": [
    "T = np.matmul(d, lu)"
   ]
  },
  {
   "cell_type": "code",
   "execution_count": 77,
   "metadata": {},
   "outputs": [
    {
     "data": {
      "text/plain": [
       "array([[ 0. ,  0.5,  0. ],\n",
       "       [ 0.5,  0. , -0.5],\n",
       "       [ 0. , -0.5,  0. ]])"
      ]
     },
     "execution_count": 77,
     "metadata": {},
     "output_type": "execute_result"
    }
   ],
   "source": [
    "T"
   ]
  },
  {
   "cell_type": "code",
   "execution_count": 49,
   "metadata": {},
   "outputs": [
    {
     "data": {
      "text/plain": [
       "array([[ 0.,  0.,  0.],\n",
       "       [ 1.,  0.,  0.],\n",
       "       [ 0., -1.,  0.]])"
      ]
     },
     "execution_count": 49,
     "metadata": {},
     "output_type": "execute_result"
    }
   ],
   "source": [
    "l"
   ]
  },
  {
   "cell_type": "code",
   "execution_count": 50,
   "metadata": {},
   "outputs": [
    {
     "data": {
      "text/plain": [
       "array([[ 0.,  1.,  0.],\n",
       "       [ 1.,  0., -1.],\n",
       "       [ 0., -1.,  0.]])"
      ]
     },
     "execution_count": 50,
     "metadata": {},
     "output_type": "execute_result"
    }
   ],
   "source": [
    "lu"
   ]
  },
  {
   "cell_type": "code",
   "execution_count": 91,
   "metadata": {},
   "outputs": [],
   "source": [
    "X = np.linalg.eig(T)"
   ]
  },
  {
   "cell_type": "code",
   "execution_count": 90,
   "metadata": {},
   "outputs": [],
   "source": [
    "p = np.amax(X[0])"
   ]
  },
  {
   "cell_type": "code",
   "execution_count": 93,
   "metadata": {},
   "outputs": [
    {
     "data": {
      "image/png": "[encoded data removed]",
      "text/latex": [
       "$\\displaystyle 1.17157287525381$"
      ],
      "text/plain": [
       "1.17157287525381"
      ]
     },
     "execution_count": 93,
     "metadata": {},
     "output_type": "execute_result"
    }
   ],
   "source": [
    "2/(1 + math.sqrt(1 - pow(p, 2)))"
   ]
  },
  {
   "cell_type": "markdown",
   "metadata": {},
   "source": [
    "---\n",
    "### 5) Implemente um algoritmo que leia uma matriz A (de uma planilha excel) e:"
   ]
  },
  {
   "cell_type": "code",
   "execution_count": 52,
   "metadata": {},
   "outputs": [],
   "source": [
    "def ler_matriz_A(file_matrix, sheet_matriz):\n",
    "    df_matriz = pd.read_excel(r\"dados/\"+file_matrix+\".xlsx\", header=None, sheet_name=sheet_matriz) # Le o arquivo do excel que contém a matriz A sem cabeçalho\n",
    "    matriz = np.array(df_matriz, dtype='f8') # Converte a matriz A em um array da numpy\n",
    "    return matriz\n",
    "\n",
    "matriz = ler_matriz_A(\"prova_ALC_testes\", \"matriz_A(2)\")"
   ]
  },
  {
   "cell_type": "markdown",
   "metadata": {},
   "source": [
    "**a)** Calcule a transposta de A;"
   ]
  },
  {
   "cell_type": "code",
   "execution_count": null,
   "metadata": {},
   "outputs": [],
   "source": []
  },
  {
   "cell_type": "markdown",
   "metadata": {},
   "source": [
    "**b)** Calcule o determinante de A;"
   ]
  },
  {
   "cell_type": "code",
   "execution_count": null,
   "metadata": {},
   "outputs": [],
   "source": []
  },
  {
   "cell_type": "markdown",
   "metadata": {},
   "source": [
    "**c)** Calcule a matriz adjunta de A;"
   ]
  },
  {
   "cell_type": "code",
   "execution_count": null,
   "metadata": {},
   "outputs": [],
   "source": []
  },
  {
   "cell_type": "markdown",
   "metadata": {},
   "source": [
    "**d)** Calcule o traço de A;"
   ]
  },
  {
   "cell_type": "code",
   "execution_count": 53,
   "metadata": {},
   "outputs": [],
   "source": [
    "def traco(matriz_A):\n",
    "    linhas, colunas = np.shape(matriz_A)\n",
    "    n, traco = min((linhas, colunas)), 0\n",
    "\n",
    "    for i in range(n):\n",
    "        traco += matriz_A[i,i]\n",
    "    return traco"
   ]
  },
  {
   "cell_type": "code",
   "execution_count": 54,
   "metadata": {},
   "outputs": [
    {
     "name": "stdout",
     "output_type": "stream",
     "text": [
      "Traço de A: 2024668.0\n"
     ]
    }
   ],
   "source": [
    "print(\"Traço de A:\", traco(matriz))"
   ]
  },
  {
   "cell_type": "markdown",
   "metadata": {},
   "source": [
    "**e)** Avalie se A é simétrica;"
   ]
  },
  {
   "cell_type": "code",
   "execution_count": 55,
   "metadata": {},
   "outputs": [],
   "source": [
    "def verifica_simetria(matriz_A):\n",
    "    if verifica_quadrada(matriz_A):\n",
    "        n = len(matriz_A)\n",
    "        for i in range(n):\n",
    "            for j in range(n):\n",
    "                if (i != j) and (matriz_A[i,j] != matriz_A[j,i]):\n",
    "                    print(\"A matriz não é simétrica\")\n",
    "                    return False\n",
    "        print(\"A matriz é simétrica\")\n",
    "        return True\n",
    "    print(\"A matriz não é quadrada\")\n",
    "    return False"
   ]
  },
  {
   "cell_type": "code",
   "execution_count": 56,
   "metadata": {},
   "outputs": [
    {
     "name": "stdout",
     "output_type": "stream",
     "text": [
      "A matriz é simétrica\n",
      "True\n"
     ]
    }
   ],
   "source": [
    "print(verifica_simetria(matriz))"
   ]
  },
  {
   "cell_type": "markdown",
   "metadata": {},
   "source": [
    "**f)** Avalie se A é ortogonal;"
   ]
  },
  {
   "cell_type": "code",
   "execution_count": null,
   "metadata": {},
   "outputs": [],
   "source": []
  },
  {
   "cell_type": "markdown",
   "metadata": {},
   "source": [
    "**g)** Calcule a norma de linha, norma de Frobenius e norma coluna de A."
   ]
  },
  {
   "cell_type": "code",
   "execution_count": 57,
   "metadata": {},
   "outputs": [],
   "source": [
    "def soma_linha(matriz_A): # norma-infinita matricial\n",
    "    n, max, x = len(matriz_A), 0, 0\n",
    "\n",
    "    for i in range(n):\n",
    "        for j in range(n):\n",
    "            x += math.fabs(matriz_A[i,j])\n",
    "        \n",
    "        if x > max:\n",
    "            max = x\n",
    "\n",
    "    return max"
   ]
  },
  {
   "cell_type": "code",
   "execution_count": 58,
   "metadata": {},
   "outputs": [],
   "source": [
    "def frobenius(matriz_A): # norma-2 matricial\n",
    "    n, x = len(matriz_A), 0\n",
    "\n",
    "    for i in range(n):\n",
    "        for j in range(n):\n",
    "            x += math.pow(math.fabs(matriz_A[i,j]), 2)\n",
    "\n",
    "    return x ** (1/2)"
   ]
  },
  {
   "cell_type": "code",
   "execution_count": 59,
   "metadata": {},
   "outputs": [],
   "source": [
    "def soma_coluna(matriz_A): # norma-1 matricial\n",
    "    n, max, x = len(matriz_A), 0, 0\n",
    "\n",
    "    for j in range(n):\n",
    "        for i in range(n):\n",
    "            x += math.fabs(matriz_A[i,j])\n",
    "        \n",
    "        if x > max:\n",
    "            max = x\n",
    "    \n",
    "    return max"
   ]
  },
  {
   "cell_type": "code",
   "execution_count": 60,
   "metadata": {},
   "outputs": [
    {
     "name": "stdout",
     "output_type": "stream",
     "text": [
      "Norma linha: 37848742.0\n",
      "Norma de Frobenius: 1544623.5421512907\n",
      "Norma coluna: 37848742.0\n"
     ]
    }
   ],
   "source": [
    "print(\"Norma linha:\", soma_linha(matriz))\n",
    "print(\"Norma de Frobenius:\", frobenius(matriz))\n",
    "print(\"Norma coluna:\", soma_coluna(matriz))"
   ]
  },
  {
   "cell_type": "markdown",
   "metadata": {},
   "source": [
    "**h)** Avalie se A é positiva definida."
   ]
  },
  {
   "cell_type": "code",
   "execution_count": null,
   "metadata": {},
   "outputs": [],
   "source": []
  },
  {
   "cell_type": "markdown",
   "metadata": {},
   "source": [
    "---\n",
    "### 6) Construa um algoritmo que receba dois vetores x e y e uma matriz A positiva definida (de uma planilha excel). Calcule:"
   ]
  },
  {
   "cell_type": "code",
   "execution_count": 61,
   "metadata": {},
   "outputs": [],
   "source": [
    "def ler_matriz_A_vetor_x_vetor_y(file_matrix, file_array_x, file_array_y):\n",
    "    df_matriz = pd.read_excel(r\"dados/\"+file_matrix+\".xlsx\", header=None) # Le o arquivo do excel que contém a matriz A sem cabeçalho\n",
    "    df_vetor_x = pd.read_excel(r\"dados/\"+file_array_x+\".xlsx\", header=None) # Le o arquivo do excel que contém o vetor x sem cabeçalho\n",
    "    df_vetor_y = pd.read_excel(r\"dados/\"+file_array_y+\".xlsx\", header=None) # Le o arquivo do excel que contém o vetor y sem cabeçalho\n",
    "    matriz = np.array(df_matriz, dtype='f8') # Converte a matriz A em um array da numpy\n",
    "    vetor_x = np.ravel(np.array(df_vetor_x, dtype='f8')) # Converte o vetor b em um array da numpy\n",
    "    vetor_y = np.ravel(np.array(df_vetor_y, dtype='f8')) # Converte o vetor b em um array da numpy\n",
    "    return matriz, vetor_x, vetor_y\n"
   ]
  },
  {
   "cell_type": "code",
   "execution_count": 62,
   "metadata": {},
   "outputs": [],
   "source": [
    "matriz, vetor_x, vetor_y = ler_matriz_A_vetor_x_vetor_y(\"matriz_A\", \"vetor_x\", \"vetor_y\")"
   ]
  },
  {
   "cell_type": "markdown",
   "metadata": {},
   "source": [
    "**a)** Norma 1, norma 2 e norma infinito de x e y."
   ]
  },
  {
   "cell_type": "code",
   "execution_count": 63,
   "metadata": {},
   "outputs": [],
   "source": [
    "def manhattan(vetor): # norma-1 vetorial\n",
    "    n, x = len(vetor), 0\n",
    "\n",
    "    for i in range(n):\n",
    "        x += np.fabs(vetor[i])\n",
    "    return x"
   ]
  },
  {
   "cell_type": "code",
   "execution_count": 64,
   "metadata": {},
   "outputs": [],
   "source": [
    "def euclidiana(vetor): # norma-2 vetorial\n",
    "    n, x = len(vetor), 0\n",
    "\n",
    "    for i in range(n):\n",
    "        x += np.fabs(vetor[i]) ** 2\n",
    "\n",
    "    return x ** (1/2)"
   ]
  },
  {
   "cell_type": "code",
   "execution_count": 65,
   "metadata": {},
   "outputs": [],
   "source": [
    "def infinita(vetor): # norma-infinita vetorial\n",
    "    n, max = len(vetor), vetor[0]\n",
    "    \n",
    "    for i in range(1, n):\n",
    "        if np.fabs(vetor[i]) > max:\n",
    "            max = np.fabs(vetor[i])\n",
    "\n",
    "    return max"
   ]
  },
  {
   "cell_type": "code",
   "execution_count": 66,
   "metadata": {},
   "outputs": [
    {
     "name": "stdout",
     "output_type": "stream",
     "text": [
      "Norma 1 do vetor x: 1004523.0\n",
      "Norma 2 do vetor x: 269843.4839587571\n",
      "Norma infinita do vetor x: 140094.0 \n",
      "\n",
      "Norma 1 do vetor y: 1004523.0\n",
      "Norma 2 do vetor y: 269843.4839587571\n",
      "Norma infinita do vetor y: 140094.0\n"
     ]
    }
   ],
   "source": [
    "print(\"Norma 1 do vetor x:\", manhattan(vetor_x))\n",
    "print(\"Norma 2 do vetor x:\", euclidiana(vetor_x))\n",
    "print(\"Norma infinita do vetor x:\", infinita(vetor_x), \"\\n\")\n",
    "print(\"Norma 1 do vetor y:\", manhattan(vetor_y))\n",
    "print(\"Norma 2 do vetor y:\", euclidiana(vetor_y))\n",
    "print(\"Norma infinita do vetor y:\", infinita(vetor_y))"
   ]
  },
  {
   "cell_type": "markdown",
   "metadata": {},
   "source": [
    "**b)** Ângulo entre x e y;"
   ]
  },
  {
   "cell_type": "code",
   "execution_count": null,
   "metadata": {},
   "outputs": [],
   "source": []
  },
  {
   "cell_type": "markdown",
   "metadata": {},
   "source": [
    "**c)** Norma de x e y induzida por A;"
   ]
  },
  {
   "cell_type": "code",
   "execution_count": null,
   "metadata": {},
   "outputs": [],
   "source": []
  },
  {
   "cell_type": "markdown",
   "metadata": {},
   "source": [
    "**d)** Produto interno de x e y."
   ]
  },
  {
   "cell_type": "code",
   "execution_count": null,
   "metadata": {},
   "outputs": [],
   "source": []
  },
  {
   "cell_type": "markdown",
   "metadata": {},
   "source": [
    "---\n",
    "### 7) Implemente um algoritmo que leia uma matriz A e um vetor b (de uma planilha excel). Encontre a fatoração LU de A."
   ]
  },
  {
   "cell_type": "code",
   "execution_count": 67,
   "metadata": {},
   "outputs": [
    {
     "name": "stdout",
     "output_type": "stream",
     "text": [
      "Vetor x resultado da Fatoração LU:\n",
      " [ 218.15690039 -134.91978861 -228.57366314  196.17807308  -23.10822144\n",
      "  120.75613378   76.57658357   32.56339464  112.28655838 -311.76230605\n",
      "    9.73618607  179.86106078   37.55533057   -5.28610392   20.3176418\n",
      "  120.6584339   184.2906244    34.16170845 -178.63243142  -42.98537213\n",
      " -108.87178633  -70.23227857  168.6609164  -259.13412099 -164.019284  ] \n",
      "\n"
     ]
    }
   ],
   "source": [
    "matriz, vetor = ler_matriz_A_vetor_b(\"prova_ALC_testes\", \"matriz_A(1)\", \"vetor_b(1)\")\n",
    "\n",
    "# TESTE DO ALGORITMO DE FATORAÇÃO LU E NORMA RESIDUAL (fatoracaoLU.py, normas.py)'''\n",
    "delta_x = fatoracaoLU(matriz,vetor)\n",
    "\n",
    "print(\"Vetor x resultado da Fatoração LU:\\n\",delta_x,\"\\n\")\n",
    "#normas.residual(matriz, vetor, delta_x)"
   ]
  },
  {
   "cell_type": "markdown",
   "metadata": {},
   "source": [
    "---\n",
    "### 8) Construa um algoritmo que receba uma matriz A positiva (de uma planilha excel). Calcule:"
   ]
  },
  {
   "cell_type": "code",
   "execution_count": 68,
   "metadata": {},
   "outputs": [],
   "source": [
    "matriz = ler_matriz_A(\"prova_ALC_testes\", \"matriz_A(2)\")"
   ]
  },
  {
   "cell_type": "markdown",
   "metadata": {},
   "source": [
    "**a)** O número condição;"
   ]
  },
  {
   "cell_type": "code",
   "execution_count": null,
   "metadata": {},
   "outputs": [],
   "source": []
  },
  {
   "cell_type": "markdown",
   "metadata": {},
   "source": [
    "**b)** Retorne uma mensagem ao usuário sobre sua interpretação."
   ]
  },
  {
   "cell_type": "code",
   "execution_count": null,
   "metadata": {},
   "outputs": [],
   "source": []
  },
  {
   "cell_type": "markdown",
   "metadata": {},
   "source": [
    "---\n",
    "### 9) Construa um algoritmo que receba três matrizes: U, sigma e V (de uma planilha excel) e:"
   ]
  },
  {
   "cell_type": "code",
   "execution_count": 69,
   "metadata": {},
   "outputs": [],
   "source": [
    "def ler_matrizes_USV(file_excel):\n",
    "    df_matriz_U = pd.read_excel(r\"dados/\"+file_excel+\".xlsx\", header=None, sheet_name='matriz_U') # Le o arquivo do excel que contém a matriz A sem cabeçalho\n",
    "    df_matriz_S = pd.read_excel(r\"dados/\"+file_excel+\".xlsx\", header=None, sheet_name='matriz_S') # Le o arquivo do excel que contém o vetor x sem cabeçalho\n",
    "    df_matriz_V = pd.read_excel(r\"dados/\"+file_excel+\".xlsx\", header=None, sheet_name='matriz_V') # Le o arquivo do excel que contém o vetor y sem cabeçalho\n",
    "    matriz_U = np.array(df_matriz_U, dtype='f8') # Converte a matriz A em um array da numpy\n",
    "    matriz_S = np.array(df_matriz_S, dtype='f8') # Converte a matriz A em um array da numpy\n",
    "    matriz_V = np.array(df_matriz_V, dtype='f8') # Converte a matriz A em um array da numpy\n",
    "    return matriz_U, matriz_S, matriz_V\n",
    "\n",
    "matriz_U, matriz_S, matriz_V = ler_matrizes_USV(\"prova_ALC_testes\")"
   ]
  },
  {
   "cell_type": "markdown",
   "metadata": {},
   "source": [
    "**a)** Avalie se o produto das três matrizes representa uma decomposição SVD de alguma matriz X;"
   ]
  },
  {
   "cell_type": "code",
   "execution_count": null,
   "metadata": {},
   "outputs": [],
   "source": []
  },
  {
   "cell_type": "markdown",
   "metadata": {},
   "source": [
    "**b)** Caso a resposta à pergunta anterior seja negativa, retorne ao usuário uma explicação justificando esse fato."
   ]
  },
  {
   "cell_type": "code",
   "execution_count": null,
   "metadata": {},
   "outputs": [],
   "source": []
  },
  {
   "cell_type": "markdown",
   "metadata": {},
   "source": [
    "---\n",
    "### 10) Construa um algoritmo que leia uma planilha em Excel com 4 colunas e calcule a estatística de Benford (para 1 dígito) para cada uma das colunas."
   ]
  },
  {
   "cell_type": "code",
   "execution_count": 70,
   "metadata": {},
   "outputs": [
    {
     "name": "stdout",
     "output_type": "stream",
     "text": [
      "Porcentagem de ocorrência de \"1\" em cada coluna: 10.6692% | 11.1430% | 11.8036% | 10.9420% | \n",
      "Porcentagem de ocorrência de \"2\" em cada coluna: 11.1574% | 11.0281% | 10.8271% | 11.3297% | \n",
      "Porcentagem de ocorrência de \"3\" em cada coluna: 11.3297% | 10.8415% | 11.3441% | 11.2005% | \n",
      "Porcentagem de ocorrência de \"4\" em cada coluna: 11.3584% | 10.5112% | 10.3676% | 10.7553% | \n",
      "Porcentagem de ocorrência de \"5\" em cada coluna: 10.6117% | 11.1430% | 11.2866% | 11.0999% | \n",
      "Porcentagem de ocorrência de \"6\" em cada coluna: 11.2435% | 11.3584% | 10.8845% | 11.0425% | \n",
      "Porcentagem de ocorrência de \"7\" em cada coluna: 11.8323% | 11.1861% | 11.4733% | 10.7266% | \n",
      "Porcentagem de ocorrência de \"8\" em cada coluna: 11.0999% | 11.1717% | 11.4159% | 11.6743% | \n",
      "Porcentagem de ocorrência de \"9\" em cada coluna: 10.6979% | 11.6169% | 10.5974% | 11.2005% | \n"
     ]
    }
   ],
   "source": [
    "benford(ler_dados_benford(\"dados_benford\"))"
   ]
  }
 ],
 "metadata": {
  "interpreter": {
   "hash": "d42491d68fc79822fa8f6c491674669c1be72403cbbd08a196e81efa0cad5789"
  },
  "kernelspec": {
   "display_name": "Python 3",
   "language": "python",
   "name": "python3"
  },
  "language_info": {
   "codemirror_mode": {
    "name": "ipython",
    "version": 3
   },
   "file_extension": ".py",
   "mimetype": "text/x-python",
   "name": "python",
   "nbconvert_exporter": "python",
   "pygments_lexer": "ipython3",
   "version": "3.8.10"
  }
 },
 "nbformat": 4,
 "nbformat_minor": 2
}
