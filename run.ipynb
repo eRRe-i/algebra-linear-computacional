{
 "cells": [
  {
   "cell_type": "markdown",
   "source": [
    "# ÁLGEBRA LINEAR COMPUTACIONAL\r\n",
    "\r\n",
    "## SEGUNDA AVALIAÇÃO - 2020.2 - PROFESSOR ERITO MARQUES   "
   ],
   "metadata": {}
  },
  {
   "cell_type": "markdown",
   "source": [
    "---\r\n",
    "### GRUPO:\r\n",
    "**Ícaro Santos Barcelos Pereira - _2017780187_**\\\r\n",
    "**Leandro Bataglia Pereira - _2018780199_**\\\r\n",
    "**Pedro Henrique Farolfi Camelo - _2018780326_**\r\n",
    "\r\n",
    "---"
   ],
   "metadata": {}
  },
  {
   "cell_type": "markdown",
   "source": [
    "Repositório dos algoritmos solicitados na segunda prova da disciplina de Álgebra Linear Computacional.\r\n",
    "##### Instruções:\r\n",
    "As respostas devem ser enviadas no formato jupyter notebook.\\\r\n",
    "Os trabalhos devem ser feitos em grupo. Não é permitida troca de informações entre os grupos.\\\r\n",
    "Fixada a data de entrega, não serão aceitos trabalhos entregues fora dessa data."
   ],
   "metadata": {}
  },
  {
   "cell_type": "code",
   "execution_count": 1,
   "source": [
    "import numpy as np\r\n",
    "import pandas as pd\r\n",
    "import math\r\n",
    "from normas import *\r\n",
    "from criterios import *\r\n",
    "from cholesky import *\r\n",
    "from iterativos import *\r\n",
    "from benford import *\r\n",
    "from fatoracaoLU import fatoracaoLU\r\n",
    "from substituicao import resolve_substituicao\r\n",
    "from sympy import Matrix, init_printing\r\n",
    "init_printing()\r\n",
    "#BIBLIOTECA QUE NÃO ESTOU USANDO MAS PODE SER ÚTIL PARA EXIBIR AS MATRIZES/VETORES = display(Matrix(*variavel que representa o dado*)"
   ],
   "outputs": [],
   "metadata": {}
  },
  {
   "cell_type": "code",
   "execution_count": 39,
   "source": [
    "# Coverti isso aqui em um procedimento, a parada é que vc pode mandar isso\r\n",
    "# ocorrer no início de qualquer célula e pode alterar o excel em tempo de execução :)\r\n",
    "\r\n",
    "# CONVERSÃO DOS DADOS EM ARRAYS DA NUMPY COM TYPE 'float64'\r\n",
    "def ler_matriz_A_vetor_b(file_excel, sheet_matriz, sheet_vetor):\r\n",
    "    df_matriz = pd.read_excel(r\"dados/\"+file_excel+\".xlsx\", header=None, sheet_name=sheet_matriz) # Le o arquivo do excel que contém a matriz A sem cabeçalho\r\n",
    "    df_vetor = pd.read_excel(r\"dados/\"+file_excel+\".xlsx\", header=None, sheet_name=sheet_vetor) # Le o arquivo do excel que contém o vetor b sem cabeçalho\r\n",
    "    matriz = np.array(df_matriz, dtype='f8') # Converte a matriz A em um array da numpy\r\n",
    "    vetor = np.ravel(np.array(df_vetor, dtype='f8')) # Converte o vetor b em um array da numpy\r\n",
    "    return matriz, vetor"
   ],
   "outputs": [],
   "metadata": {}
  },
  {
   "cell_type": "markdown",
   "source": [
    "### 1) Implemente um algoritmo que leia uma matriz A e um vetor b (de uma planilha excel) e avalie:"
   ],
   "metadata": {}
  },
  {
   "cell_type": "code",
   "execution_count": 3,
   "source": [
    "matriz, vetor = ler_matriz_A_vetor_b(\"prova_ALC_testes\", \"matriz_A(1)\", \"vetor_b(1)\")"
   ],
   "outputs": [],
   "metadata": {}
  },
  {
   "cell_type": "markdown",
   "source": [
    "**a)** se A é tridiagonal;"
   ],
   "metadata": {}
  },
  {
   "cell_type": "code",
   "execution_count": 4,
   "source": [
    "def verifica_tridiagonal(matriz_A):\r\n",
    "    linhas, colunas = np.shape(matriz_A)\r\n",
    "\r\n",
    "    for i in range(linhas):\r\n",
    "        for j in range(colunas):\r\n",
    "            if np.abs(i-j) <= 1 and matriz_A[i,j] == 0:\r\n",
    "                return False\r\n",
    "            if np.abs(i-j) >= 2 and matriz_A[i,j] != 0:\r\n",
    "                return False\r\n",
    "    return True"
   ],
   "outputs": [],
   "metadata": {}
  },
  {
   "cell_type": "code",
   "execution_count": 5,
   "source": [
    "verifica_tridiagonal(matriz)"
   ],
   "outputs": [
    {
     "output_type": "execute_result",
     "data": {
      "text/plain": [
       "False"
      ]
     },
     "metadata": {},
     "execution_count": 5
    }
   ],
   "metadata": {}
  },
  {
   "cell_type": "markdown",
   "source": [
    "**b)** se A é triangular superior;"
   ],
   "metadata": {}
  },
  {
   "cell_type": "code",
   "execution_count": 6,
   "source": [
    "def verifica_tri_superior(matriz_A):\r\n",
    "    linhas = len(matriz_A)\r\n",
    "\r\n",
    "    for i in range(linhas):\r\n",
    "        for j in range(i):\r\n",
    "            if matriz_A[i,j] != 0:\r\n",
    "                return False\r\n",
    "    return True"
   ],
   "outputs": [],
   "metadata": {}
  },
  {
   "cell_type": "code",
   "execution_count": 7,
   "source": [
    "verifica_tri_superior(matriz)"
   ],
   "outputs": [
    {
     "output_type": "execute_result",
     "data": {
      "text/plain": [
       "False"
      ]
     },
     "metadata": {},
     "execution_count": 7
    }
   ],
   "metadata": {}
  },
  {
   "cell_type": "markdown",
   "source": [
    "**c)** se A é triangular inferior;"
   ],
   "metadata": {}
  },
  {
   "cell_type": "code",
   "execution_count": 8,
   "source": [
    "def verifica_tri_inferior(matriz_A):\r\n",
    "    colunas = len(matriz_A[0])\r\n",
    "\r\n",
    "    for j in range(colunas):\r\n",
    "        for i in range(j):\r\n",
    "            if matriz_A[i,j] != 0:\r\n",
    "                return False\r\n",
    "    return True"
   ],
   "outputs": [],
   "metadata": {}
  },
  {
   "cell_type": "code",
   "execution_count": 9,
   "source": [
    "verifica_tri_inferior(matriz)"
   ],
   "outputs": [
    {
     "output_type": "execute_result",
     "data": {
      "text/plain": [
       "False"
      ]
     },
     "metadata": {},
     "execution_count": 9
    }
   ],
   "metadata": {}
  },
  {
   "cell_type": "markdown",
   "source": [
    "**d)** se Traço de A é maior que 4."
   ],
   "metadata": {}
  },
  {
   "cell_type": "code",
   "execution_count": 10,
   "source": [
    "def traco(matriz_A):\r\n",
    "    linhas, colunas = np.shape(matriz_A)\r\n",
    "    n, traco = min((linhas, colunas)), 0\r\n",
    "\r\n",
    "    for i in range(n):\r\n",
    "        traco += matriz_A[i,i]\r\n",
    "    if traco > 4:\r\n",
    "        print(\"O traço da matriz é \" + str(traco) + \", portanto é maior que 4\")\r\n",
    "        return True\r\n",
    "    print(\"O traço da matriz é \" + str(traco) + \", portanto não é maior que 4\")\r\n",
    "    return False"
   ],
   "outputs": [],
   "metadata": {}
  },
  {
   "cell_type": "code",
   "execution_count": 11,
   "source": [
    "traco(matriz)"
   ],
   "outputs": [
    {
     "output_type": "stream",
     "name": "stdout",
     "text": [
      "O traço da matriz é 1179.0, portanto é maior que 4\n"
     ]
    },
    {
     "output_type": "execute_result",
     "data": {
      "text/plain": [
       "True"
      ]
     },
     "metadata": {},
     "execution_count": 11
    }
   ],
   "metadata": {}
  },
  {
   "cell_type": "markdown",
   "source": [
    "---\r\n",
    "### 2) Implemente um algoritmo que leia uma matriz A (triangular) e um vetor b (de uma planilha excel) e resolva o sistema Ax = b por substituição para frente ou para trás conforme o caso."
   ],
   "metadata": {}
  },
  {
   "cell_type": "code",
   "execution_count": 12,
   "source": [
    "matriz, vetor = ler_matriz_A_vetor_b(\"prova_ALC_testes\")\r\n",
    "\r\n",
    "delta_x = resolve_substituicao(matriz, vetor)\r\n",
    "print(\"Vetor x resultado da substituição:\\n\",delta_x,\"\\n\")"
   ],
   "outputs": [
    {
     "output_type": "stream",
     "name": "stdout",
     "text": [
      "A matriz não é triangular\n",
      "Vetor x resultado da substituição:\n",
      " False \n",
      "\n"
     ]
    }
   ],
   "metadata": {}
  },
  {
   "cell_type": "markdown",
   "source": [
    "---\r\n",
    "### 3) Implemente um algoritmo que leia uma matriz A e um vetor b (de uma planilha excel) e:\r\n",
    "\r\n"
   ],
   "metadata": {}
  },
  {
   "cell_type": "code",
   "execution_count": 40,
   "source": [
    "matriz, vetor = ler_matriz_A_vetor_b(\"prova_ALC_testes\", \"matriz_A(1)\", \"vetor_b(1)\")"
   ],
   "outputs": [],
   "metadata": {}
  },
  {
   "cell_type": "markdown",
   "source": [
    "**a)** Avalie se é possível obter o fator de Cholesky;"
   ],
   "metadata": {}
  },
  {
   "cell_type": "code",
   "execution_count": null,
   "source": [],
   "outputs": [],
   "metadata": {}
  },
  {
   "cell_type": "markdown",
   "source": [
    "**b)** Resolva o sistema Ax = b usando a fatoração de Cholesky."
   ],
   "metadata": {}
  },
  {
   "cell_type": "code",
   "execution_count": 41,
   "source": [
    "# TESTE DO ALGORITMO DE DECOMPOSIÇÃO DE CHOLESKY E NORMA RESIDUAL (cholesky.py, normas.py)\r\n",
    "delta_x = decomposicao_cholesky(matriz, vetor)\r\n",
    "print(\"Vetor x resultado da Decomposição de Cholesky:\\n\",delta_x,\"\\n\")\r\n",
    "#residual(matriz, vetor, delta_x)"
   ],
   "outputs": [
    {
     "output_type": "stream",
     "name": "stdout",
     "text": [
      "Erro: A matriz não é positiva definida.\n",
      "Vetor x resultado da Decomposição de Cholesky:\n",
      " None \n",
      "\n"
     ]
    }
   ],
   "metadata": {}
  },
  {
   "cell_type": "markdown",
   "source": [
    "---\r\n",
    "### 4) Implemente um algoritmo que leia uma matriz A e um vetor b (de uma planilha excel) e:"
   ],
   "metadata": {}
  },
  {
   "cell_type": "code",
   "execution_count": 42,
   "source": [
    "matriz, vetor = ler_matriz_A_vetor_b(\"prova_ALC_testes\", \"matriz_A(1)\", \"vetor_b(1)\")"
   ],
   "outputs": [],
   "metadata": {}
  },
  {
   "cell_type": "markdown",
   "source": [
    "**a)** Avalie se algum critério é satisfeito para aplicação dos métodos de Gauss-Seidel, Jacobi e SOR;"
   ],
   "metadata": {}
  },
  {
   "cell_type": "code",
   "execution_count": 43,
   "source": [
    "print(criterio_linhas(matriz))\r\n",
    "print(criterio_sassenfeld(matriz))"
   ],
   "outputs": [
    {
     "output_type": "stream",
     "name": "stdout",
     "text": [
      "False\n",
      "Maior betão: 10602274533433.357\n",
      "False\n"
     ]
    }
   ],
   "metadata": {}
  },
  {
   "cell_type": "markdown",
   "source": [
    "**b)** Resolva o sistema Ax = b usando os métodos iterativos de Gauss-Seidel, Jacobi e SOR."
   ],
   "metadata": {}
  },
  {
   "cell_type": "code",
   "execution_count": 44,
   "source": [
    "#print(jacobi(matriz, vetor))\r\n",
    "print(seidel(matriz, vetor))\r\n",
    "print(sor(matriz, vetor))"
   ],
   "outputs": [
    {
     "output_type": "stream",
     "name": "stdout",
     "text": [
      "ATENÇÃO: O critério das linhas não foi satisfeito.\n",
      "Maior betão: 10602274533433.357\n",
      "ATENÇÃO: O critério de Sassenfeld não foi satisfeito.\n",
      "(Seidel) Resultado encontrado com o número máximo de iterações.\n",
      "[nan nan nan nan nan nan nan nan nan nan nan nan nan nan nan nan nan nan\n",
      " nan nan nan nan nan nan nan]\n",
      "ATENÇÃO: O critério das linhas não foi satisfeito.\n",
      "Maior betão: 10602274533433.357\n",
      "ATENÇÃO: O critério de Sassenfeld não foi satisfeito.\n"
     ]
    },
    {
     "output_type": "stream",
     "name": "stderr",
     "text": [
      "c:\\Users\\phfar\\Google Drive\\Faculdade\\2020.2\\ALC\\Python\\algebra-linear-computacional\\iterativos.py:63: RuntimeWarning: overflow encountered in double_scalars\n",
      "  aux += matriz_A[i,j] * vetor_aux[j] # Acumula as subtrações dos valores de Aij*xj utilizando os valores que já foram atualizados (de 0 a i) que ficam no vetor auxiliar\n",
      "c:\\Users\\phfar\\Google Drive\\Faculdade\\2020.2\\ALC\\Python\\algebra-linear-computacional\\iterativos.py:63: RuntimeWarning: invalid value encountered in double_scalars\n",
      "  aux += matriz_A[i,j] * vetor_aux[j] # Acumula as subtrações dos valores de Aij*xj utilizando os valores que já foram atualizados (de 0 a i) que ficam no vetor auxiliar\n",
      "c:\\Users\\phfar\\Google Drive\\Faculdade\\2020.2\\ALC\\Python\\algebra-linear-computacional\\iterativos.py:65: RuntimeWarning: invalid value encountered in double_scalars\n",
      "  aux += matriz_A[i,j] * vetor_x[j] # Acumula as subtrações dos valores de Aij*xj utilizando os valores ainda não foram atualizados (de i+1 a n) que ficam no vetor x\n",
      "c:\\Users\\phfar\\Google Drive\\Faculdade\\2020.2\\ALC\\Python\\algebra-linear-computacional\\iterativos.py:65: RuntimeWarning: overflow encountered in double_scalars\n",
      "  aux += matriz_A[i,j] * vetor_x[j] # Acumula as subtrações dos valores de Aij*xj utilizando os valores ainda não foram atualizados (de i+1 a n) que ficam no vetor x\n",
      "c:\\Users\\phfar\\Google Drive\\Faculdade\\2020.2\\ALC\\Python\\algebra-linear-computacional\\iterativos.py:110: RuntimeWarning: overflow encountered in double_scalars\n",
      "  vetor_aux[i] = (1-w)*vetor_x[i] + (w*(vetor_b[i] - aux))/matriz_A[i,i] # Executa a iteração do método com (1-w)*xi(bi-Aij*xj)/Aii\n",
      "c:\\Users\\phfar\\Google Drive\\Faculdade\\2020.2\\ALC\\Python\\algebra-linear-computacional\\iterativos.py:106: RuntimeWarning: invalid value encountered in double_scalars\n",
      "  aux += matriz_A[i,j] * vetor_aux[j] # Acumula as subtrações dos valores de Aij*xj utilizando os valores que já foram atualizados (de 0 a i) que ficam no vetor auxiliar\n",
      "c:\\Users\\phfar\\Google Drive\\Faculdade\\2020.2\\ALC\\Python\\algebra-linear-computacional\\iterativos.py:108: RuntimeWarning: invalid value encountered in double_scalars\n",
      "  aux += matriz_A[i,j] * vetor_x[j] # Acumula as subtrações dos valores de Aij*xj utilizando os valores ainda não foram atualizados (de i+1 a n) que ficam no vetor x\n"
     ]
    },
    {
     "output_type": "stream",
     "name": "stdout",
     "text": [
      "(SOR) Resultado encontrado com o número máximo de iterações.\n",
      "[nan nan nan nan nan nan nan nan nan nan nan nan nan nan nan nan nan nan\n",
      " nan nan nan nan nan nan nan]\n"
     ]
    }
   ],
   "metadata": {}
  },
  {
   "cell_type": "markdown",
   "source": [
    "---\r\n",
    "### 5) Implemente um algoritmo que leia uma matriz A (de uma planilha excel) e:"
   ],
   "metadata": {}
  },
  {
   "cell_type": "code",
   "execution_count": 45,
   "source": [
    "def ler_matriz_A(file_matrix, sheet_matriz):\r\n",
    "    df_matriz = pd.read_excel(r\"dados/\"+file_matrix+\".xlsx\", header=None, sheet_name=sheet_matriz) # Le o arquivo do excel que contém a matriz A sem cabeçalho\r\n",
    "    matriz = np.array(df_matriz, dtype='f8') # Converte a matriz A em um array da numpy\r\n",
    "    return matriz\r\n",
    "\r\n",
    "matriz = ler_matriz_A(\"prova_ALC_testes\", \"matriz_A(2)\")"
   ],
   "outputs": [],
   "metadata": {}
  },
  {
   "cell_type": "markdown",
   "source": [
    "**a)** Calcule a transposta de A;"
   ],
   "metadata": {}
  },
  {
   "cell_type": "code",
   "execution_count": null,
   "source": [],
   "outputs": [],
   "metadata": {}
  },
  {
   "cell_type": "markdown",
   "source": [
    "**b)** Calcule o determinante de A;"
   ],
   "metadata": {}
  },
  {
   "cell_type": "code",
   "execution_count": null,
   "source": [],
   "outputs": [],
   "metadata": {}
  },
  {
   "cell_type": "markdown",
   "source": [
    "**c)** Calcule a matriz adjunta de A;"
   ],
   "metadata": {}
  },
  {
   "cell_type": "code",
   "execution_count": null,
   "source": [],
   "outputs": [],
   "metadata": {}
  },
  {
   "cell_type": "markdown",
   "source": [
    "**d)** Calcule o traço de A;"
   ],
   "metadata": {}
  },
  {
   "cell_type": "code",
   "execution_count": 46,
   "source": [
    "def traco(matriz_A):\r\n",
    "    linhas, colunas = np.shape(matriz_A)\r\n",
    "    n, traco = min((linhas, colunas)), 0\r\n",
    "\r\n",
    "    for i in range(n):\r\n",
    "        traco += matriz_A[i,i]\r\n",
    "    return traco"
   ],
   "outputs": [],
   "metadata": {}
  },
  {
   "cell_type": "code",
   "execution_count": 47,
   "source": [
    "print(\"Traço de A:\", traco(matriz))"
   ],
   "outputs": [
    {
     "output_type": "stream",
     "name": "stdout",
     "text": [
      "Traço de A: 2024668.0\n"
     ]
    }
   ],
   "metadata": {}
  },
  {
   "cell_type": "markdown",
   "source": [
    "**e)** Avalie se A é simétrica;"
   ],
   "metadata": {}
  },
  {
   "cell_type": "code",
   "execution_count": 48,
   "source": [
    "def verifica_simetria(matriz_A):\r\n",
    "    if verifica_quadrada(matriz_A):\r\n",
    "        n = len(matriz_A)\r\n",
    "        for i in range(n):\r\n",
    "            for j in range(n):\r\n",
    "                if (i != j) and (matriz_A[i,j] != matriz_A[j,i]):\r\n",
    "                    print(\"A matriz não é simétrica\")\r\n",
    "                    return False\r\n",
    "        print(\"A matriz é simétrica\")\r\n",
    "        return True\r\n",
    "    print(\"A matriz não é quadrada\")\r\n",
    "    return False"
   ],
   "outputs": [],
   "metadata": {}
  },
  {
   "cell_type": "code",
   "execution_count": 49,
   "source": [
    "print(verifica_simetria(matriz))"
   ],
   "outputs": [
    {
     "output_type": "stream",
     "name": "stdout",
     "text": [
      "A matriz é simétrica\n",
      "True\n"
     ]
    }
   ],
   "metadata": {}
  },
  {
   "cell_type": "markdown",
   "source": [
    "**f)** Avalie se A é ortogonal;"
   ],
   "metadata": {}
  },
  {
   "cell_type": "code",
   "execution_count": null,
   "source": [],
   "outputs": [],
   "metadata": {}
  },
  {
   "cell_type": "markdown",
   "source": [
    "**g)** Calcule a norma de linha, norma de Frobenius e norma coluna de A."
   ],
   "metadata": {}
  },
  {
   "cell_type": "code",
   "execution_count": 50,
   "source": [
    "def soma_linha(matriz_A): # norma-infinita matricial\r\n",
    "    n, max, x = len(matriz_A), 0, 0\r\n",
    "\r\n",
    "    for i in range(n):\r\n",
    "        for j in range(n):\r\n",
    "            x += math.fabs(matriz_A[i,j])\r\n",
    "        \r\n",
    "        if x > max:\r\n",
    "            max = x\r\n",
    "\r\n",
    "    return max"
   ],
   "outputs": [],
   "metadata": {}
  },
  {
   "cell_type": "code",
   "execution_count": 51,
   "source": [
    "def frobenius(matriz_A): # norma-2 matricial\r\n",
    "    n, x = len(matriz_A), 0\r\n",
    "\r\n",
    "    for i in range(n):\r\n",
    "        for j in range(n):\r\n",
    "            x += math.pow(math.fabs(matriz_A[i,j]), 2)\r\n",
    "\r\n",
    "    return x ** (1/2)"
   ],
   "outputs": [],
   "metadata": {}
  },
  {
   "cell_type": "code",
   "execution_count": 52,
   "source": [
    "def soma_coluna(matriz_A): # norma-1 matricial\r\n",
    "    n, max, x = len(matriz_A), 0, 0\r\n",
    "\r\n",
    "    for j in range(n):\r\n",
    "        for i in range(n):\r\n",
    "            x += math.fabs(matriz_A[i,j])\r\n",
    "        \r\n",
    "        if x > max:\r\n",
    "            max = x\r\n",
    "    \r\n",
    "    return max"
   ],
   "outputs": [],
   "metadata": {}
  },
  {
   "cell_type": "code",
   "execution_count": 53,
   "source": [
    "print(\"Norma linha:\", soma_linha(matriz))\r\n",
    "print(\"Norma de Frobenius:\", frobenius(matriz))\r\n",
    "print(\"Norma coluna:\", soma_coluna(matriz))"
   ],
   "outputs": [
    {
     "output_type": "stream",
     "name": "stdout",
     "text": [
      "Norma linha: 37848742.0\n",
      "Norma de Frobenius: 1544623.5421512907\n",
      "Norma coluna: 37848742.0\n"
     ]
    }
   ],
   "metadata": {}
  },
  {
   "cell_type": "markdown",
   "source": [
    "**h)** Avalie se A é positiva definida."
   ],
   "metadata": {}
  },
  {
   "cell_type": "code",
   "execution_count": null,
   "source": [],
   "outputs": [],
   "metadata": {}
  },
  {
   "cell_type": "markdown",
   "source": [
    "---\r\n",
    "### 6) Construa um algoritmo que receba dois vetores x e y e uma matriz A positiva definida (de uma planilha excel). Calcule:"
   ],
   "metadata": {}
  },
  {
   "cell_type": "code",
   "execution_count": null,
   "source": [
    "def ler_matriz_A_vetor_x_vetor_y(file_matrix, file_array_x, file_array_y):\r\n",
    "    df_matriz = pd.read_excel(r\"dados/\"+file_matrix+\".xlsx\", header=None) # Le o arquivo do excel que contém a matriz A sem cabeçalho\r\n",
    "    df_vetor_x = pd.read_excel(r\"dados/\"+file_array_x+\".xlsx\", header=None) # Le o arquivo do excel que contém o vetor x sem cabeçalho\r\n",
    "    df_vetor_y = pd.read_excel(r\"dados/\"+file_array_y+\".xlsx\", header=None) # Le o arquivo do excel que contém o vetor y sem cabeçalho\r\n",
    "    matriz = np.array(df_matriz, dtype='f8') # Converte a matriz A em um array da numpy\r\n",
    "    vetor_x = np.ravel(np.array(df_vetor_x, dtype='f8')) # Converte o vetor b em um array da numpy\r\n",
    "    vetor_y = np.ravel(np.array(df_vetor_y, dtype='f8')) # Converte o vetor b em um array da numpy\r\n",
    "    return matriz, vetor_x, vetor_y\r\n"
   ],
   "outputs": [],
   "metadata": {}
  },
  {
   "cell_type": "code",
   "execution_count": null,
   "source": [
    "matriz, vetor_x, vetor_y = ler_matriz_A_vetor_x_vetor_y(\"matriz_A\", \"vetor_x\", \"vetor_y\")"
   ],
   "outputs": [],
   "metadata": {}
  },
  {
   "cell_type": "markdown",
   "source": [
    "**a)** Norma 1, norma 2 e norma infinito de x e y."
   ],
   "metadata": {}
  },
  {
   "cell_type": "code",
   "execution_count": null,
   "source": [
    "def manhattan(vetor): # norma-1 vetorial\r\n",
    "    n, x = len(vetor), 0\r\n",
    "\r\n",
    "    for i in range(n):\r\n",
    "        x += np.fabs(vetor[i])\r\n",
    "    return x"
   ],
   "outputs": [],
   "metadata": {}
  },
  {
   "cell_type": "code",
   "execution_count": null,
   "source": [
    "def euclidiana(vetor): # norma-2 vetorial\r\n",
    "    n, x = len(vetor), 0\r\n",
    "\r\n",
    "    for i in range(n):\r\n",
    "        x += np.fabs(vetor[i]) ** 2\r\n",
    "\r\n",
    "    return x ** (1/2)"
   ],
   "outputs": [],
   "metadata": {}
  },
  {
   "cell_type": "code",
   "execution_count": null,
   "source": [
    "def infinita(vetor): # norma-infinita vetorial\r\n",
    "    n, max = len(vetor), vetor[0]\r\n",
    "    \r\n",
    "    for i in range(1, n):\r\n",
    "        if np.fabs(vetor[i]) > max:\r\n",
    "            max = np.fabs(vetor[i])\r\n",
    "\r\n",
    "    return max"
   ],
   "outputs": [],
   "metadata": {}
  },
  {
   "cell_type": "code",
   "execution_count": null,
   "source": [
    "print(\"Norma 1 do vetor x:\", manhattan(vetor_x))\r\n",
    "print(\"Norma 2 do vetor x:\", euclidiana(vetor_x))\r\n",
    "print(\"Norma infinita do vetor x:\", infinita(vetor_x), \"\\n\")\r\n",
    "print(\"Norma 1 do vetor y:\", manhattan(vetor_y))\r\n",
    "print(\"Norma 2 do vetor y:\", euclidiana(vetor_y))\r\n",
    "print(\"Norma infinita do vetor y:\", infinita(vetor_y))"
   ],
   "outputs": [],
   "metadata": {}
  },
  {
   "cell_type": "markdown",
   "source": [
    "**b)** Ângulo entre x e y;"
   ],
   "metadata": {}
  },
  {
   "cell_type": "code",
   "execution_count": null,
   "source": [],
   "outputs": [],
   "metadata": {}
  },
  {
   "cell_type": "markdown",
   "source": [
    "**c)** Norma de x e y induzida por A;"
   ],
   "metadata": {}
  },
  {
   "cell_type": "code",
   "execution_count": null,
   "source": [],
   "outputs": [],
   "metadata": {}
  },
  {
   "cell_type": "markdown",
   "source": [
    "**d)** Produto interno de x e y."
   ],
   "metadata": {}
  },
  {
   "cell_type": "code",
   "execution_count": null,
   "source": [],
   "outputs": [],
   "metadata": {}
  },
  {
   "cell_type": "markdown",
   "source": [
    "---\r\n",
    "### 7) Implemente um algoritmo que leia uma matriz A e um vetor b (de uma planilha excel). Encontre a fatoração LU de A."
   ],
   "metadata": {}
  },
  {
   "cell_type": "code",
   "execution_count": 54,
   "source": [
    "matriz, vetor = ler_matriz_A_vetor_b(\"prova_ALC_testes\", \"matriz_A(1)\", \"vetor_b(1)\")\r\n",
    "\r\n",
    "# TESTE DO ALGORITMO DE FATORAÇÃO LU E NORMA RESIDUAL (fatoracaoLU.py, normas.py)'''\r\n",
    "delta_x = fatoracaoLU(matriz,vetor)\r\n",
    "\r\n",
    "print(\"Vetor x resultado da Fatoração LU:\\n\",delta_x,\"\\n\")\r\n",
    "#normas.residual(matriz, vetor, delta_x)"
   ],
   "outputs": [
    {
     "output_type": "stream",
     "name": "stdout",
     "text": [
      "Vetor x resultado da Fatoração LU:\n",
      " [ 218.15690039 -134.91978861 -228.57366314  196.17807308  -23.10822144\n",
      "  120.75613378   76.57658357   32.56339464  112.28655838 -311.76230605\n",
      "    9.73618607  179.86106078   37.55533057   -5.28610392   20.3176418\n",
      "  120.6584339   184.2906244    34.16170845 -178.63243142  -42.98537213\n",
      " -108.87178633  -70.23227857  168.6609164  -259.13412099 -164.019284  ] \n",
      "\n"
     ]
    }
   ],
   "metadata": {}
  },
  {
   "cell_type": "markdown",
   "source": [
    "---\r\n",
    "### 8) Construa um algoritmo que receba uma matriz A positiva (de uma planilha excel). Calcule:"
   ],
   "metadata": {}
  },
  {
   "cell_type": "code",
   "execution_count": null,
   "source": [
    "matriz = ler_matriz_A(\"prova_ALC_testes\", \"matriz_A(2)\")"
   ],
   "outputs": [],
   "metadata": {}
  },
  {
   "cell_type": "markdown",
   "source": [
    "**a)** O número condição;"
   ],
   "metadata": {}
  },
  {
   "cell_type": "code",
   "execution_count": null,
   "source": [],
   "outputs": [],
   "metadata": {}
  },
  {
   "cell_type": "markdown",
   "source": [
    "**b)** Retorne uma mensagem ao usuário sobre sua interpretação."
   ],
   "metadata": {}
  },
  {
   "cell_type": "code",
   "execution_count": null,
   "source": [],
   "outputs": [],
   "metadata": {}
  },
  {
   "cell_type": "markdown",
   "source": [
    "---\r\n",
    "### 9) Construa um algoritmo que receba três matrizes: U, sigma e V (de uma planilha excel) e:"
   ],
   "metadata": {}
  },
  {
   "cell_type": "code",
   "execution_count": 55,
   "source": [
    "def ler_matrizes_USV(file_excel):\r\n",
    "    df_matriz_U = pd.read_excel(r\"dados/\"+file_excel+\".xlsx\", header=None, sheet_name='matriz_U') # Le o arquivo do excel que contém a matriz A sem cabeçalho\r\n",
    "    df_matriz_S = pd.read_excel(r\"dados/\"+file_excel+\".xlsx\", header=None, sheet_name='matriz_S') # Le o arquivo do excel que contém o vetor x sem cabeçalho\r\n",
    "    df_matriz_V = pd.read_excel(r\"dados/\"+file_excel+\".xlsx\", header=None, sheet_name='matriz_V') # Le o arquivo do excel que contém o vetor y sem cabeçalho\r\n",
    "    matriz_U = np.array(df_matriz_U, dtype='f8') # Converte a matriz A em um array da numpy\r\n",
    "    matriz_S = np.array(df_matriz_S, dtype='f8') # Converte a matriz A em um array da numpy\r\n",
    "    matriz_V = np.array(df_matriz_V, dtype='f8') # Converte a matriz A em um array da numpy\r\n",
    "    return matriz_U, matriz_S, matriz_V\r\n",
    "\r\n",
    "matriz_U, matriz_S, matriz_V = ler_matrizes_USV(\"prova_ALC_testes\")"
   ],
   "outputs": [
    {
     "output_type": "error",
     "ename": "ValueError",
     "evalue": "Worksheet named 'matriz_U' not found",
     "traceback": [
      "\u001b[1;31m---------------------------------------------------------------------------\u001b[0m",
      "\u001b[1;31mValueError\u001b[0m                                Traceback (most recent call last)",
      "\u001b[1;32m<ipython-input-55-9af8287d2e6b>\u001b[0m in \u001b[0;36m<module>\u001b[1;34m\u001b[0m\n\u001b[0;32m      8\u001b[0m     \u001b[1;32mreturn\u001b[0m \u001b[0mmatriz_U\u001b[0m\u001b[1;33m,\u001b[0m \u001b[0mmatriz_S\u001b[0m\u001b[1;33m,\u001b[0m \u001b[0mmatriz_V\u001b[0m\u001b[1;33m\u001b[0m\u001b[1;33m\u001b[0m\u001b[0m\n\u001b[0;32m      9\u001b[0m \u001b[1;33m\u001b[0m\u001b[0m\n\u001b[1;32m---> 10\u001b[1;33m \u001b[0mmatriz_U\u001b[0m\u001b[1;33m,\u001b[0m \u001b[0mmatriz_S\u001b[0m\u001b[1;33m,\u001b[0m \u001b[0mmatriz_V\u001b[0m \u001b[1;33m=\u001b[0m \u001b[0mler_matrizes_USV\u001b[0m\u001b[1;33m(\u001b[0m\u001b[1;34m\"prova_ALC_testes\"\u001b[0m\u001b[1;33m)\u001b[0m\u001b[1;33m\u001b[0m\u001b[1;33m\u001b[0m\u001b[0m\n\u001b[0m",
      "\u001b[1;32m<ipython-input-55-9af8287d2e6b>\u001b[0m in \u001b[0;36mler_matrizes_USV\u001b[1;34m(file_excel)\u001b[0m\n\u001b[0;32m      1\u001b[0m \u001b[1;32mdef\u001b[0m \u001b[0mler_matrizes_USV\u001b[0m\u001b[1;33m(\u001b[0m\u001b[0mfile_excel\u001b[0m\u001b[1;33m)\u001b[0m\u001b[1;33m:\u001b[0m\u001b[1;33m\u001b[0m\u001b[1;33m\u001b[0m\u001b[0m\n\u001b[1;32m----> 2\u001b[1;33m     \u001b[0mdf_matriz_U\u001b[0m \u001b[1;33m=\u001b[0m \u001b[0mpd\u001b[0m\u001b[1;33m.\u001b[0m\u001b[0mread_excel\u001b[0m\u001b[1;33m(\u001b[0m\u001b[1;34mr\"dados/\"\u001b[0m\u001b[1;33m+\u001b[0m\u001b[0mfile_excel\u001b[0m\u001b[1;33m+\u001b[0m\u001b[1;34m\".xlsx\"\u001b[0m\u001b[1;33m,\u001b[0m \u001b[0mheader\u001b[0m\u001b[1;33m=\u001b[0m\u001b[1;32mNone\u001b[0m\u001b[1;33m,\u001b[0m \u001b[0msheet_name\u001b[0m\u001b[1;33m=\u001b[0m\u001b[1;34m'matriz_U'\u001b[0m\u001b[1;33m)\u001b[0m \u001b[1;31m# Le o arquivo do excel que contém a matriz A sem cabeçalho\u001b[0m\u001b[1;33m\u001b[0m\u001b[1;33m\u001b[0m\u001b[0m\n\u001b[0m\u001b[0;32m      3\u001b[0m     \u001b[0mdf_matriz_S\u001b[0m \u001b[1;33m=\u001b[0m \u001b[0mpd\u001b[0m\u001b[1;33m.\u001b[0m\u001b[0mread_excel\u001b[0m\u001b[1;33m(\u001b[0m\u001b[1;34mr\"dados/\"\u001b[0m\u001b[1;33m+\u001b[0m\u001b[0mfile_excel\u001b[0m\u001b[1;33m+\u001b[0m\u001b[1;34m\".xlsx\"\u001b[0m\u001b[1;33m,\u001b[0m \u001b[0mheader\u001b[0m\u001b[1;33m=\u001b[0m\u001b[1;32mNone\u001b[0m\u001b[1;33m,\u001b[0m \u001b[0msheet_name\u001b[0m\u001b[1;33m=\u001b[0m\u001b[1;34m'matriz_S'\u001b[0m\u001b[1;33m)\u001b[0m \u001b[1;31m# Le o arquivo do excel que contém o vetor x sem cabeçalho\u001b[0m\u001b[1;33m\u001b[0m\u001b[1;33m\u001b[0m\u001b[0m\n\u001b[0;32m      4\u001b[0m     \u001b[0mdf_matriz_V\u001b[0m \u001b[1;33m=\u001b[0m \u001b[0mpd\u001b[0m\u001b[1;33m.\u001b[0m\u001b[0mread_excel\u001b[0m\u001b[1;33m(\u001b[0m\u001b[1;34mr\"dados/\"\u001b[0m\u001b[1;33m+\u001b[0m\u001b[0mfile_excel\u001b[0m\u001b[1;33m+\u001b[0m\u001b[1;34m\".xlsx\"\u001b[0m\u001b[1;33m,\u001b[0m \u001b[0mheader\u001b[0m\u001b[1;33m=\u001b[0m\u001b[1;32mNone\u001b[0m\u001b[1;33m,\u001b[0m \u001b[0msheet_name\u001b[0m\u001b[1;33m=\u001b[0m\u001b[1;34m'matriz_V'\u001b[0m\u001b[1;33m)\u001b[0m \u001b[1;31m# Le o arquivo do excel que contém o vetor y sem cabeçalho\u001b[0m\u001b[1;33m\u001b[0m\u001b[1;33m\u001b[0m\u001b[0m\n\u001b[0;32m      5\u001b[0m     \u001b[0mmatriz_U\u001b[0m \u001b[1;33m=\u001b[0m \u001b[0mnp\u001b[0m\u001b[1;33m.\u001b[0m\u001b[0marray\u001b[0m\u001b[1;33m(\u001b[0m\u001b[0mdf_matriz_U\u001b[0m\u001b[1;33m,\u001b[0m \u001b[0mdtype\u001b[0m\u001b[1;33m=\u001b[0m\u001b[1;34m'f8'\u001b[0m\u001b[1;33m)\u001b[0m \u001b[1;31m# Converte a matriz A em um array da numpy\u001b[0m\u001b[1;33m\u001b[0m\u001b[1;33m\u001b[0m\u001b[0m\n",
      "\u001b[1;32m~\\miniconda3\\envs\\ALC\\lib\\site-packages\\pandas\\util\\_decorators.py\u001b[0m in \u001b[0;36mwrapper\u001b[1;34m(*args, **kwargs)\u001b[0m\n\u001b[0;32m    297\u001b[0m                 )\n\u001b[0;32m    298\u001b[0m                 \u001b[0mwarnings\u001b[0m\u001b[1;33m.\u001b[0m\u001b[0mwarn\u001b[0m\u001b[1;33m(\u001b[0m\u001b[0mmsg\u001b[0m\u001b[1;33m,\u001b[0m \u001b[0mFutureWarning\u001b[0m\u001b[1;33m,\u001b[0m \u001b[0mstacklevel\u001b[0m\u001b[1;33m=\u001b[0m\u001b[0mstacklevel\u001b[0m\u001b[1;33m)\u001b[0m\u001b[1;33m\u001b[0m\u001b[1;33m\u001b[0m\u001b[0m\n\u001b[1;32m--> 299\u001b[1;33m             \u001b[1;32mreturn\u001b[0m \u001b[0mfunc\u001b[0m\u001b[1;33m(\u001b[0m\u001b[1;33m*\u001b[0m\u001b[0margs\u001b[0m\u001b[1;33m,\u001b[0m \u001b[1;33m**\u001b[0m\u001b[0mkwargs\u001b[0m\u001b[1;33m)\u001b[0m\u001b[1;33m\u001b[0m\u001b[1;33m\u001b[0m\u001b[0m\n\u001b[0m\u001b[0;32m    300\u001b[0m \u001b[1;33m\u001b[0m\u001b[0m\n\u001b[0;32m    301\u001b[0m         \u001b[1;32mreturn\u001b[0m \u001b[0mwrapper\u001b[0m\u001b[1;33m\u001b[0m\u001b[1;33m\u001b[0m\u001b[0m\n",
      "\u001b[1;32m~\\miniconda3\\envs\\ALC\\lib\\site-packages\\pandas\\io\\excel\\_base.py\u001b[0m in \u001b[0;36mread_excel\u001b[1;34m(io, sheet_name, header, names, index_col, usecols, squeeze, dtype, engine, converters, true_values, false_values, skiprows, nrows, na_values, keep_default_na, na_filter, verbose, parse_dates, date_parser, thousands, comment, skipfooter, convert_float, mangle_dupe_cols, storage_options)\u001b[0m\n\u001b[0;32m    342\u001b[0m \u001b[1;33m\u001b[0m\u001b[0m\n\u001b[0;32m    343\u001b[0m     \u001b[1;32mtry\u001b[0m\u001b[1;33m:\u001b[0m\u001b[1;33m\u001b[0m\u001b[1;33m\u001b[0m\u001b[0m\n\u001b[1;32m--> 344\u001b[1;33m         data = io.parse(\n\u001b[0m\u001b[0;32m    345\u001b[0m             \u001b[0msheet_name\u001b[0m\u001b[1;33m=\u001b[0m\u001b[0msheet_name\u001b[0m\u001b[1;33m,\u001b[0m\u001b[1;33m\u001b[0m\u001b[1;33m\u001b[0m\u001b[0m\n\u001b[0;32m    346\u001b[0m             \u001b[0mheader\u001b[0m\u001b[1;33m=\u001b[0m\u001b[0mheader\u001b[0m\u001b[1;33m,\u001b[0m\u001b[1;33m\u001b[0m\u001b[1;33m\u001b[0m\u001b[0m\n",
      "\u001b[1;32m~\\miniconda3\\envs\\ALC\\lib\\site-packages\\pandas\\io\\excel\\_base.py\u001b[0m in \u001b[0;36mparse\u001b[1;34m(self, sheet_name, header, names, index_col, usecols, squeeze, converters, true_values, false_values, skiprows, nrows, na_values, parse_dates, date_parser, thousands, comment, skipfooter, convert_float, mangle_dupe_cols, **kwds)\u001b[0m\n\u001b[0;32m   1168\u001b[0m             \u001b[0mDataFrame\u001b[0m \u001b[1;32mfrom\u001b[0m \u001b[0mthe\u001b[0m \u001b[0mpassed\u001b[0m \u001b[1;32min\u001b[0m \u001b[0mExcel\u001b[0m \u001b[0mfile\u001b[0m\u001b[1;33m.\u001b[0m\u001b[1;33m\u001b[0m\u001b[1;33m\u001b[0m\u001b[0m\n\u001b[0;32m   1169\u001b[0m         \"\"\"\n\u001b[1;32m-> 1170\u001b[1;33m         return self._reader.parse(\n\u001b[0m\u001b[0;32m   1171\u001b[0m             \u001b[0msheet_name\u001b[0m\u001b[1;33m=\u001b[0m\u001b[0msheet_name\u001b[0m\u001b[1;33m,\u001b[0m\u001b[1;33m\u001b[0m\u001b[1;33m\u001b[0m\u001b[0m\n\u001b[0;32m   1172\u001b[0m             \u001b[0mheader\u001b[0m\u001b[1;33m=\u001b[0m\u001b[0mheader\u001b[0m\u001b[1;33m,\u001b[0m\u001b[1;33m\u001b[0m\u001b[1;33m\u001b[0m\u001b[0m\n",
      "\u001b[1;32m~\\miniconda3\\envs\\ALC\\lib\\site-packages\\pandas\\io\\excel\\_base.py\u001b[0m in \u001b[0;36mparse\u001b[1;34m(self, sheet_name, header, names, index_col, usecols, squeeze, dtype, true_values, false_values, skiprows, nrows, na_values, verbose, parse_dates, date_parser, thousands, comment, skipfooter, convert_float, mangle_dupe_cols, **kwds)\u001b[0m\n\u001b[0;32m    486\u001b[0m \u001b[1;33m\u001b[0m\u001b[0m\n\u001b[0;32m    487\u001b[0m             \u001b[1;32mif\u001b[0m \u001b[0misinstance\u001b[0m\u001b[1;33m(\u001b[0m\u001b[0masheetname\u001b[0m\u001b[1;33m,\u001b[0m \u001b[0mstr\u001b[0m\u001b[1;33m)\u001b[0m\u001b[1;33m:\u001b[0m\u001b[1;33m\u001b[0m\u001b[1;33m\u001b[0m\u001b[0m\n\u001b[1;32m--> 488\u001b[1;33m                 \u001b[0msheet\u001b[0m \u001b[1;33m=\u001b[0m \u001b[0mself\u001b[0m\u001b[1;33m.\u001b[0m\u001b[0mget_sheet_by_name\u001b[0m\u001b[1;33m(\u001b[0m\u001b[0masheetname\u001b[0m\u001b[1;33m)\u001b[0m\u001b[1;33m\u001b[0m\u001b[1;33m\u001b[0m\u001b[0m\n\u001b[0m\u001b[0;32m    489\u001b[0m             \u001b[1;32melse\u001b[0m\u001b[1;33m:\u001b[0m  \u001b[1;31m# assume an integer if not a string\u001b[0m\u001b[1;33m\u001b[0m\u001b[1;33m\u001b[0m\u001b[0m\n\u001b[0;32m    490\u001b[0m                 \u001b[0msheet\u001b[0m \u001b[1;33m=\u001b[0m \u001b[0mself\u001b[0m\u001b[1;33m.\u001b[0m\u001b[0mget_sheet_by_index\u001b[0m\u001b[1;33m(\u001b[0m\u001b[0masheetname\u001b[0m\u001b[1;33m)\u001b[0m\u001b[1;33m\u001b[0m\u001b[1;33m\u001b[0m\u001b[0m\n",
      "\u001b[1;32m~\\miniconda3\\envs\\ALC\\lib\\site-packages\\pandas\\io\\excel\\_openpyxl.py\u001b[0m in \u001b[0;36mget_sheet_by_name\u001b[1;34m(self, name)\u001b[0m\n\u001b[0;32m    499\u001b[0m \u001b[1;33m\u001b[0m\u001b[0m\n\u001b[0;32m    500\u001b[0m     \u001b[1;32mdef\u001b[0m \u001b[0mget_sheet_by_name\u001b[0m\u001b[1;33m(\u001b[0m\u001b[0mself\u001b[0m\u001b[1;33m,\u001b[0m \u001b[0mname\u001b[0m\u001b[1;33m:\u001b[0m \u001b[0mstr\u001b[0m\u001b[1;33m)\u001b[0m\u001b[1;33m:\u001b[0m\u001b[1;33m\u001b[0m\u001b[1;33m\u001b[0m\u001b[0m\n\u001b[1;32m--> 501\u001b[1;33m         \u001b[0mself\u001b[0m\u001b[1;33m.\u001b[0m\u001b[0mraise_if_bad_sheet_by_name\u001b[0m\u001b[1;33m(\u001b[0m\u001b[0mname\u001b[0m\u001b[1;33m)\u001b[0m\u001b[1;33m\u001b[0m\u001b[1;33m\u001b[0m\u001b[0m\n\u001b[0m\u001b[0;32m    502\u001b[0m         \u001b[1;32mreturn\u001b[0m \u001b[0mself\u001b[0m\u001b[1;33m.\u001b[0m\u001b[0mbook\u001b[0m\u001b[1;33m[\u001b[0m\u001b[0mname\u001b[0m\u001b[1;33m]\u001b[0m\u001b[1;33m\u001b[0m\u001b[1;33m\u001b[0m\u001b[0m\n\u001b[0;32m    503\u001b[0m \u001b[1;33m\u001b[0m\u001b[0m\n",
      "\u001b[1;32m~\\miniconda3\\envs\\ALC\\lib\\site-packages\\pandas\\io\\excel\\_base.py\u001b[0m in \u001b[0;36mraise_if_bad_sheet_by_name\u001b[1;34m(self, name)\u001b[0m\n\u001b[0;32m    435\u001b[0m     \u001b[1;32mdef\u001b[0m \u001b[0mraise_if_bad_sheet_by_name\u001b[0m\u001b[1;33m(\u001b[0m\u001b[0mself\u001b[0m\u001b[1;33m,\u001b[0m \u001b[0mname\u001b[0m\u001b[1;33m:\u001b[0m \u001b[0mstr\u001b[0m\u001b[1;33m)\u001b[0m \u001b[1;33m->\u001b[0m \u001b[1;32mNone\u001b[0m\u001b[1;33m:\u001b[0m\u001b[1;33m\u001b[0m\u001b[1;33m\u001b[0m\u001b[0m\n\u001b[0;32m    436\u001b[0m         \u001b[1;32mif\u001b[0m \u001b[0mname\u001b[0m \u001b[1;32mnot\u001b[0m \u001b[1;32min\u001b[0m \u001b[0mself\u001b[0m\u001b[1;33m.\u001b[0m\u001b[0msheet_names\u001b[0m\u001b[1;33m:\u001b[0m\u001b[1;33m\u001b[0m\u001b[1;33m\u001b[0m\u001b[0m\n\u001b[1;32m--> 437\u001b[1;33m             \u001b[1;32mraise\u001b[0m \u001b[0mValueError\u001b[0m\u001b[1;33m(\u001b[0m\u001b[1;34mf\"Worksheet named '{name}' not found\"\u001b[0m\u001b[1;33m)\u001b[0m\u001b[1;33m\u001b[0m\u001b[1;33m\u001b[0m\u001b[0m\n\u001b[0m\u001b[0;32m    438\u001b[0m \u001b[1;33m\u001b[0m\u001b[0m\n\u001b[0;32m    439\u001b[0m     def parse(\n",
      "\u001b[1;31mValueError\u001b[0m: Worksheet named 'matriz_U' not found"
     ]
    }
   ],
   "metadata": {}
  },
  {
   "cell_type": "markdown",
   "source": [
    "**a)** Avalie se o produto das três matrizes representa uma decomposição SVD de alguma matriz X;"
   ],
   "metadata": {}
  },
  {
   "cell_type": "code",
   "execution_count": null,
   "source": [],
   "outputs": [],
   "metadata": {}
  },
  {
   "cell_type": "markdown",
   "source": [
    "**b)** Caso a resposta à pergunta anterior seja negativa, retorne ao usuário uma explicação justificando esse fato."
   ],
   "metadata": {}
  },
  {
   "cell_type": "code",
   "execution_count": null,
   "source": [],
   "outputs": [],
   "metadata": {}
  },
  {
   "cell_type": "markdown",
   "source": [
    "---\r\n",
    "### 10) Construa um algoritmo que leia uma planilha em Excel com 4 colunas e calcule a estatística de Benford (para 1 dígito) para cada uma das colunas."
   ],
   "metadata": {}
  },
  {
   "cell_type": "code",
   "execution_count": 37,
   "source": [
    "benford(ler_dados_benford(\"dados_benford\"))"
   ],
   "outputs": [
    {
     "output_type": "stream",
     "name": "stdout",
     "text": [
      "Porcentagem de ocorrência de \"1\" em cada coluna: 10.6692% | 11.1430% | 11.8036% | 10.9420% | \n",
      "Porcentagem de ocorrência de \"2\" em cada coluna: 11.1574% | 11.0281% | 10.8271% | 11.3297% | \n",
      "Porcentagem de ocorrência de \"3\" em cada coluna: 11.3297% | 10.8415% | 11.3441% | 11.2005% | \n",
      "Porcentagem de ocorrência de \"4\" em cada coluna: 11.3584% | 10.5112% | 10.3676% | 10.7553% | \n",
      "Porcentagem de ocorrência de \"5\" em cada coluna: 10.6117% | 11.1430% | 11.2866% | 11.0999% | \n",
      "Porcentagem de ocorrência de \"6\" em cada coluna: 11.2435% | 11.3584% | 10.8845% | 11.0425% | \n",
      "Porcentagem de ocorrência de \"7\" em cada coluna: 11.8323% | 11.1861% | 11.4733% | 10.7266% | \n",
      "Porcentagem de ocorrência de \"8\" em cada coluna: 11.0999% | 11.1717% | 11.4159% | 11.6743% | \n",
      "Porcentagem de ocorrência de \"9\" em cada coluna: 10.6979% | 11.6169% | 10.5974% | 11.2005% | \n"
     ]
    }
   ],
   "metadata": {}
  }
 ],
 "metadata": {
  "interpreter": {
   "hash": "d42491d68fc79822fa8f6c491674669c1be72403cbbd08a196e81efa0cad5789"
  },
  "kernelspec": {
   "name": "python3",
   "display_name": "Python 3.9.5 64-bit ('ALC': conda)"
  },
  "language_info": {
   "name": "python",
   "version": "3.9.5",
   "mimetype": "text/x-python",
   "codemirror_mode": {
    "name": "ipython",
    "version": 3
   },
   "pygments_lexer": "ipython3",
   "nbconvert_exporter": "python",
   "file_extension": ".py"
  }
 },
 "nbformat": 4,
 "nbformat_minor": 2
}