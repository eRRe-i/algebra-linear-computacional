{
 "cells": [
  {
   "cell_type": "markdown",
   "source": [
    "# ÁLGEBRA LINEAR COMPUTACIONAL\r\n",
    "\r\n",
    "## SEGUNDA AVALIAÇÃO - 2020.2 - PROFESSOR ERITO MARQUES   "
   ],
   "metadata": {}
  },
  {
   "cell_type": "markdown",
   "source": [
    "---\n",
    "### GRUPO:\n",
    "**Ícaro Santos Barcelos Pereira - _2017780187_**\\\n",
    "**Leandro Bataglia Pereira - _2018780199_**\\\n",
    "**Pedro Henrique Farolfi Camelo - _2018780326_**\n",
    "\n",
    "---"
   ],
   "metadata": {}
  },
  {
   "cell_type": "markdown",
   "source": [
    "Repositório dos algoritmos solicitados na segunda prova da disciplina de Álgebra Linear Computacional.\n",
    "##### Instruções:\n",
    "As respostas devem ser enviadas no formato jupyter notebook.\\\n",
    "Os trabalhos devem ser feitos em grupo. Não é permitida troca de informações entre os grupos.\\\n",
    "Fixada a data de entrega, não serão aceitos trabalhos entregues fora dessa data."
   ],
   "metadata": {}
  },
  {
   "cell_type": "code",
   "execution_count": 1,
   "source": [
    "import numpy as np\r\n",
    "import pandas as pd\r\n",
    "import normas\r\n",
    "from cholesky import decomposicao_cholesky\r\n",
    "from benford import *\r\n",
    "from gauss import eliminacao_gauss\r\n",
    "from fatoracaoLU import fatoracaoLU\r\n",
    "from substituicao import resolve_substituicao\r\n",
    "from sympy import Matrix, init_printing\r\n",
    "init_printing()\r\n",
    "#BIBLIOTECA QUE NÃO ESTOU USANDO MAS PODE SER ÚTIL PARA EXIBIR AS MATRIZES/VETORES = display(Matrix(*variavel que representa o dado*)"
   ],
   "outputs": [],
   "metadata": {}
  },
  {
   "cell_type": "code",
   "execution_count": 2,
   "source": [
    "# Coverti isso aqui em um procedimento, a parada é que vc pode mandar isso\r\n",
    "# ocorrer no início de qualquer célula e pode alterar o excel em tempo de execução :)\r\n",
    "\r\n",
    "# CONVERSÃO DOS DADOS EM ARRAYS DA NUMPY COM TYPE 'float64'\r\n",
    "def ler(file_matrix, file_array):\r\n",
    "    df_matriz = pd.read_excel(r\"dados/\"+file_matrix+\".xlsx\", header=None) # Le o arquivo do excel que contém a matriz A sem cabeçalho\r\n",
    "    df_vetor = pd.read_excel(r\"dados/\"+file_array+\".xlsx\", header=None) # Le o arquivo do excel que contém o vetor b sem cabeçalho\r\n",
    "    matriz = np.array(df_matriz, dtype='f8') # Converte a matriz A em um array da numpy\r\n",
    "    vetor = np.ravel(np.array(df_vetor, dtype='f8')) # Converte o vetor b em um array da numpy\r\n",
    "    return matriz, vetor\r\n",
    "\r\n",
    "matriz, vetor = ler(\"matriz_A\", \"vetor_b\")"
   ],
   "outputs": [],
   "metadata": {}
  },
  {
   "cell_type": "markdown",
   "source": [
    "### 1) Implemente um algoritmo que leia uma matriz A e um vetor b (de uma planilha excel) e avalie:\n",
    "**a)** se A é tridiagonal;"
   ],
   "metadata": {}
  },
  {
   "cell_type": "code",
   "execution_count": 3,
   "source": [
    "def verifica_tridiagonal(matriz_A):\r\n",
    "    linhas, colunas = np.shape(matriz_A)\r\n",
    "\r\n",
    "    for i in range(linhas):\r\n",
    "        for j in range(colunas):\r\n",
    "            if np.abs(i-j) <= 1 and matriz_A[i,j] == 0:\r\n",
    "                return False\r\n",
    "            if np.abs(i-j) >= 2 and matriz_A[i,j] != 0:\r\n",
    "                return False\r\n",
    "    return True"
   ],
   "outputs": [],
   "metadata": {}
  },
  {
   "cell_type": "code",
   "execution_count": 4,
   "source": [
    "verifica_tridiagonal(matriz)"
   ],
   "outputs": [
    {
     "output_type": "execute_result",
     "data": {
      "text/plain": [
       "False"
      ]
     },
     "metadata": {},
     "execution_count": 4
    }
   ],
   "metadata": {}
  },
  {
   "cell_type": "markdown",
   "source": [
    "**b)** se A é triangular superior;"
   ],
   "metadata": {}
  },
  {
   "cell_type": "code",
   "execution_count": 5,
   "source": [
    "def verifica_tri_superior(matriz_A):\r\n",
    "    linhas = len(matriz_A)\r\n",
    "\r\n",
    "    for i in range(linhas):\r\n",
    "        for j in range(i):\r\n",
    "            if matriz_A[i,j] != 0:\r\n",
    "                return False\r\n",
    "    return True"
   ],
   "outputs": [],
   "metadata": {}
  },
  {
   "cell_type": "code",
   "execution_count": 6,
   "source": [
    "verifica_tri_superior(matriz)"
   ],
   "outputs": [
    {
     "output_type": "execute_result",
     "data": {
      "text/plain": [
       "False"
      ]
     },
     "metadata": {},
     "execution_count": 6
    }
   ],
   "metadata": {}
  },
  {
   "cell_type": "markdown",
   "source": [
    "**c)** se A é triangular inferior;"
   ],
   "metadata": {}
  },
  {
   "cell_type": "code",
   "execution_count": 7,
   "source": [
    "def verifica_tri_inferior(matriz_A):\r\n",
    "    colunas = len(matriz_A[0])\r\n",
    "\r\n",
    "    for j in range(colunas):\r\n",
    "        for i in range(j):\r\n",
    "            if matriz_A[i,j] != 0:\r\n",
    "                return False\r\n",
    "    return True"
   ],
   "outputs": [],
   "metadata": {}
  },
  {
   "cell_type": "code",
   "execution_count": 8,
   "source": [
    "verifica_tri_inferior(matriz)"
   ],
   "outputs": [
    {
     "output_type": "execute_result",
     "data": {
      "text/plain": [
       "False"
      ]
     },
     "metadata": {},
     "execution_count": 8
    }
   ],
   "metadata": {}
  },
  {
   "cell_type": "markdown",
   "source": [
    "**d)** se Traço de A é maior que 4."
   ],
   "metadata": {}
  },
  {
   "cell_type": "code",
   "execution_count": 9,
   "source": [
    "def traco(matriz_A):\r\n",
    "    linhas, colunas = np.shape(matriz_A)\r\n",
    "    n, traco = min((linhas, colunas)), 0\r\n",
    "\r\n",
    "    for i in range(n):\r\n",
    "        traco += matriz_A[i,i]\r\n",
    "    if traco > 4:\r\n",
    "        print(\"O traço da matriz é \" + str(traco) + \", portanto é maior que 4\")\r\n",
    "        return True\r\n",
    "    print(\"O traço da matriz é \" + str(traco) + \", portanto não é maior que 4\")\r\n",
    "    return False"
   ],
   "outputs": [],
   "metadata": {}
  },
  {
   "cell_type": "code",
   "execution_count": 10,
   "source": [
    "traco(matriz)"
   ],
   "outputs": [
    {
     "output_type": "stream",
     "name": "stdout",
     "text": [
      "O traço da matriz é 1613337.0, portanto é maior que 4\n"
     ]
    },
    {
     "output_type": "execute_result",
     "data": {
      "text/plain": [
       "True"
      ]
     },
     "metadata": {},
     "execution_count": 10
    }
   ],
   "metadata": {}
  },
  {
   "cell_type": "markdown",
   "source": [
    "---\n",
    "### 2) Implemente um algoritmo que leia uma matriz A (triangular) e um vetor b (de uma planilha excel) e resolva o sistema Ax = b por substituição para frente ou para trás conforme o caso."
   ],
   "metadata": {}
  },
  {
   "cell_type": "code",
   "execution_count": 11,
   "source": [
    "delta_x = resolve_substituicao(matriz, vetor)\r\n",
    "\r\n",
    "print(\"Vetor x resultado da substituição:\\n\",delta_x,\"\\n\")"
   ],
   "outputs": [
    {
     "output_type": "stream",
     "name": "stdout",
     "text": [
      "A matriz não é triangular\n",
      "Vetor x resultado da substituição:\n",
      " False \n",
      "\n"
     ]
    }
   ],
   "metadata": {}
  },
  {
   "cell_type": "markdown",
   "source": [
    "---\r\n",
    "### 3) Implemente um algoritmo que leia uma matriz A e um vetor b (de uma planilha excel) e:\r\n",
    "\r\n",
    "### a) Avalie se é possível obter o fator de Cholesky;"
   ],
   "metadata": {}
  },
  {
   "cell_type": "code",
   "execution_count": null,
   "source": [],
   "outputs": [],
   "metadata": {}
  },
  {
   "cell_type": "markdown",
   "source": [
    "### b) Resolva o sistema Ax = b usando a fatoração de Cholesky."
   ],
   "metadata": {}
  },
  {
   "cell_type": "code",
   "execution_count": 12,
   "source": [
    "# TESTE DO ALGORITMO DE DECOMPOSIÇÃO DE CHOLESKY E NORMA RESIDUAL (cholesky.py, normas.py) '''\r\n",
    "delta_x = decomposicao_cholesky(matriz, vetor)\r\n",
    "\r\n",
    "print(\"Vetor x resultado da Decomposição de Cholesky:\\n\",delta_x,\"\\n\")\r\n",
    "#normas.residual(matriz, vetor, delta_x)"
   ],
   "outputs": [
    {
     "output_type": "stream",
     "name": "stdout",
     "text": [
      "Vetor x resultado da Decomposição de Cholesky:\n",
      " [1. 1. 1. 1. 1. 1. 1. 1. 1. 1. 1. 1. 1. 1. 1. 1. 1. 1. 1. 1. 1. 1.] \n",
      "\n"
     ]
    }
   ],
   "metadata": {}
  },
  {
   "cell_type": "markdown",
   "source": [
    "---\r\n",
    "### 4) Implemente um algoritmo que leia uma matriz A e um vetor b (de uma planilha excel) e:\r\n",
    "\r\n",
    "### a) Avalie se algum critério é satisfeito para aplicação dos métodos de Gauss-Seidel, Jacobi e SOR;"
   ],
   "metadata": {}
  },
  {
   "cell_type": "code",
   "execution_count": null,
   "source": [],
   "outputs": [],
   "metadata": {}
  },
  {
   "cell_type": "markdown",
   "source": [
    "### b) Resolva o sistema Ax = b usando os métodos iterativos de Gauss-Seidel, Jacobi e SOR."
   ],
   "metadata": {}
  },
  {
   "cell_type": "code",
   "execution_count": null,
   "source": [],
   "outputs": [],
   "metadata": {}
  },
  {
   "cell_type": "markdown",
   "source": [
    "---\r\n",
    "### 5) Implemente um algoritmo que leia uma matriz A (de uma planilha excel) e:\r\n",
    "\r\n",
    "### a) Calcule a transposta de A;"
   ],
   "metadata": {}
  },
  {
   "cell_type": "code",
   "execution_count": null,
   "source": [],
   "outputs": [],
   "metadata": {}
  },
  {
   "cell_type": "markdown",
   "source": [
    "### b) Calcule o determinante de A;"
   ],
   "metadata": {}
  },
  {
   "cell_type": "code",
   "execution_count": null,
   "source": [],
   "outputs": [],
   "metadata": {}
  },
  {
   "cell_type": "markdown",
   "source": [
    "### c) Calcule a matriz adjunta de A;"
   ],
   "metadata": {}
  },
  {
   "cell_type": "code",
   "execution_count": null,
   "source": [],
   "outputs": [],
   "metadata": {}
  },
  {
   "cell_type": "markdown",
   "source": [
    "### d) Calcule o traço de A;"
   ],
   "metadata": {}
  },
  {
   "cell_type": "code",
   "execution_count": null,
   "source": [],
   "outputs": [],
   "metadata": {}
  },
  {
   "cell_type": "markdown",
   "source": [
    "### e) Avalie se A é simétrica;"
   ],
   "metadata": {}
  },
  {
   "cell_type": "code",
   "execution_count": null,
   "source": [],
   "outputs": [],
   "metadata": {}
  },
  {
   "cell_type": "markdown",
   "source": [
    "### f) Avalie se A é ortogonal;"
   ],
   "metadata": {}
  },
  {
   "cell_type": "code",
   "execution_count": null,
   "source": [],
   "outputs": [],
   "metadata": {}
  },
  {
   "cell_type": "markdown",
   "source": [
    "### g) Calcule a norma de linha, norma de Frobenius e norma coluna de A."
   ],
   "metadata": {}
  },
  {
   "cell_type": "code",
   "execution_count": null,
   "source": [],
   "outputs": [],
   "metadata": {}
  },
  {
   "cell_type": "markdown",
   "source": [
    "### h) Avalie se A é positiva definida."
   ],
   "metadata": {}
  },
  {
   "cell_type": "code",
   "execution_count": null,
   "source": [],
   "outputs": [],
   "metadata": {}
  },
  {
   "cell_type": "markdown",
   "source": [
    "---\r\n",
    "### 6) Construa um algoritmo que receba dois vetores x e y e uma matriz A positiva definida (de uma planilha excel). Calcule:\r\n",
    "\r\n",
    "### a) Norma 1, norma 2 e norma infinito de x e y."
   ],
   "metadata": {}
  },
  {
   "cell_type": "code",
   "execution_count": null,
   "source": [],
   "outputs": [],
   "metadata": {}
  },
  {
   "cell_type": "markdown",
   "source": [
    "### b) Ângulo entre x e y;"
   ],
   "metadata": {}
  },
  {
   "cell_type": "code",
   "execution_count": null,
   "source": [],
   "outputs": [],
   "metadata": {}
  },
  {
   "cell_type": "markdown",
   "source": [
    "### c) Norma de x e y induzida por A;"
   ],
   "metadata": {}
  },
  {
   "cell_type": "code",
   "execution_count": null,
   "source": [],
   "outputs": [],
   "metadata": {}
  },
  {
   "cell_type": "markdown",
   "source": [
    "### d) Produto interno de x e y."
   ],
   "metadata": {}
  },
  {
   "cell_type": "code",
   "execution_count": null,
   "source": [],
   "outputs": [],
   "metadata": {}
  },
  {
   "cell_type": "markdown",
   "source": [
    "---\r\n",
    "### 7) Implemente um algoritmo que leia uma matriz A e um vetor b (de uma planilha excel). Encontre a fatoração LU de A."
   ],
   "metadata": {}
  },
  {
   "cell_type": "code",
   "execution_count": 13,
   "source": [
    "# TESTE DO ALGORITMO DE FATORAÇÃO LU E NORMA RESIDUAL (fatoracaoLU.py, normas.py)'''\r\n",
    "delta_x = fatoracaoLU(matriz,vetor)\r\n",
    "\r\n",
    "print(\"Vetor x resultado da Fatoração LU:\\n\",delta_x,\"\\n\")\r\n",
    "#normas.residual(matriz, vetor, delta_x)"
   ],
   "outputs": [
    {
     "output_type": "stream",
     "name": "stdout",
     "text": [
      "Vetor x resultado da Fatoração LU:\n",
      " [1. 1. 1. 1. 1. 1. 1. 1. 1. 1. 1. 1. 1. 1. 1. 1. 1. 1. 1. 1. 1. 1.] \n",
      "\n"
     ]
    }
   ],
   "metadata": {}
  },
  {
   "cell_type": "markdown",
   "source": [
    "---\r\n",
    "### 8) Construa um algoritmo que receba uma matriz A positiva (de uma planilha excel). Calcule:\r\n",
    "\r\n",
    "### a) O número condição;"
   ],
   "metadata": {}
  },
  {
   "cell_type": "code",
   "execution_count": null,
   "source": [],
   "outputs": [],
   "metadata": {}
  },
  {
   "cell_type": "markdown",
   "source": [
    "### b) Retorne uma mensagem ao usuário sobre sua interpretação."
   ],
   "metadata": {}
  },
  {
   "cell_type": "code",
   "execution_count": null,
   "source": [],
   "outputs": [],
   "metadata": {}
  },
  {
   "cell_type": "markdown",
   "source": [
    "---\r\n",
    "### 9) Construa um algoritmo que receba três matrizes: U, sigma e V (de uma planilha excel) e:\r\n",
    "\r\n",
    "### a) Avalie se o produto das três matrizes representa uma decomposição SVD de alguma matriz X;"
   ],
   "metadata": {}
  },
  {
   "cell_type": "code",
   "execution_count": null,
   "source": [],
   "outputs": [],
   "metadata": {}
  },
  {
   "cell_type": "markdown",
   "source": [
    "### b) Caso a resposta à pergunta anterior seja negativa, retorne ao usuário uma explicação justificando esse fato."
   ],
   "metadata": {}
  },
  {
   "cell_type": "code",
   "execution_count": null,
   "source": [],
   "outputs": [],
   "metadata": {}
  },
  {
   "cell_type": "markdown",
   "source": [
    "---\r\n",
    "### 10) Construa um algoritmo que leia uma planilha em Excel com 4 colunas e calcule a estatística de Benford (para 1 dígito) para cada uma das colunas."
   ],
   "metadata": {}
  },
  {
   "cell_type": "code",
   "execution_count": 14,
   "source": [
    "benford(ler_dados_benford(\"dados_benford\"))"
   ],
   "outputs": [
    {
     "output_type": "stream",
     "name": "stdout",
     "text": [
      "Porcentagem de ocorrencia de \" 1 \" em cada coluna:\n",
      "27.2727% | 31.8182% | 45.4545% | 27.2727% | 40.9091% | 31.8182% | 13.6364% | 45.4545% | 36.3636% | 22.7273% | 27.2727% | 40.9091% | 27.2727% | 13.6364% | 40.9091% | 31.8182% | 45.4545% | 27.2727% | 18.1818% | 31.8182% | 40.9091% | 31.8182% | \n",
      "\n",
      "Porcentagem de ocorrencia de \" 2 \" em cada coluna:\n",
      "13.6364% | 22.7273% | 22.7273% | 27.2727% | 13.6364% | 9.0909% | 27.2727% | 18.1818% | 27.2727% | 31.8182% | 18.1818% | 9.0909% | 22.7273% | 36.3636% | 13.6364% | 22.7273% | 18.1818% | 22.7273% | 27.2727% | 18.1818% | 22.7273% | 27.2727% | \n",
      "\n",
      "Porcentagem de ocorrencia de \" 3 \" em cada coluna:\n",
      "9.0909% | 0.0000% | 0.0000% | 4.5455% | 9.0909% | 18.1818% | 18.1818% | 13.6364% | 4.5455% | 9.0909% | 0.0000% | 4.5455% | 4.5455% | 13.6364% | 4.5455% | 0.0000% | 0.0000% | 9.0909% | 9.0909% | 4.5455% | 9.0909% | 9.0909% | \n",
      "\n",
      "Porcentagem de ocorrencia de \" 4 \" em cada coluna:\n",
      "4.5455% | 13.6364% | 4.5455% | 9.0909% | 9.0909% | 9.0909% | 13.6364% | 4.5455% | 9.0909% | 4.5455% | 4.5455% | 13.6364% | 9.0909% | 18.1818% | 13.6364% | 4.5455% | 13.6364% | 4.5455% | 9.0909% | 9.0909% | 4.5455% | 9.0909% | \n",
      "\n",
      "Porcentagem de ocorrencia de \" 5 \" em cada coluna:\n",
      "0.0000% | 9.0909% | 4.5455% | 9.0909% | 9.0909% | 4.5455% | 4.5455% | 4.5455% | 4.5455% | 0.0000% | 13.6364% | 4.5455% | 13.6364% | 0.0000% | 4.5455% | 0.0000% | 0.0000% | 9.0909% | 4.5455% | 0.0000% | 0.0000% | 13.6364% | \n",
      "\n",
      "Porcentagem de ocorrencia de \" 6 \" em cada coluna:\n",
      "9.0909% | 9.0909% | 0.0000% | 4.5455% | 4.5455% | 22.7273% | 9.0909% | 4.5455% | 4.5455% | 4.5455% | 4.5455% | 4.5455% | 4.5455% | 9.0909% | 0.0000% | 27.2727% | 4.5455% | 0.0000% | 9.0909% | 0.0000% | 18.1818% | 0.0000% | \n",
      "\n",
      "Porcentagem de ocorrencia de \" 7 \" em cada coluna:\n",
      "18.1818% | 4.5455% | 4.5455% | 18.1818% | 4.5455% | 0.0000% | 4.5455% | 4.5455% | 4.5455% | 9.0909% | 9.0909% | 9.0909% | 13.6364% | 9.0909% | 4.5455% | 9.0909% | 13.6364% | 4.5455% | 18.1818% | 4.5455% | 4.5455% | 4.5455% | \n",
      "\n",
      "Porcentagem de ocorrencia de \" 8 \" em cada coluna:\n",
      "0.0000% | 0.0000% | 9.0909% | 0.0000% | 0.0000% | 0.0000% | 4.5455% | 4.5455% | 4.5455% | 9.0909% | 9.0909% | 9.0909% | 4.5455% | 0.0000% | 13.6364% | 0.0000% | 4.5455% | 9.0909% | 4.5455% | 9.0909% | 0.0000% | 4.5455% | \n",
      "\n",
      "Porcentagem de ocorrencia de \" 9 \" em cada coluna:\n",
      "18.1818% | 9.0909% | 9.0909% | 0.0000% | 9.0909% | 4.5455% | 4.5455% | 0.0000% | 4.5455% | 9.0909% | 13.6364% | 4.5455% | 0.0000% | 0.0000% | 4.5455% | 4.5455% | 0.0000% | 13.6364% | 0.0000% | 22.7273% | 0.0000% | 0.0000% | \n",
      "\n"
     ]
    }
   ],
   "metadata": {}
  }
 ],
 "metadata": {
  "interpreter": {
   "hash": "d42491d68fc79822fa8f6c491674669c1be72403cbbd08a196e81efa0cad5789"
  },
  "kernelspec": {
   "name": "python3",
   "display_name": "Python 3.9.5 64-bit ('ALC': conda)"
  },
  "language_info": {
   "name": "python",
   "version": "3.9.5",
   "mimetype": "text/x-python",
   "codemirror_mode": {
    "name": "ipython",
    "version": 3
   },
   "pygments_lexer": "ipython3",
   "nbconvert_exporter": "python",
   "file_extension": ".py"
  }
 },
 "nbformat": 4,
 "nbformat_minor": 2
}